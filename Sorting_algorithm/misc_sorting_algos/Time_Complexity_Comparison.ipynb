{
 "cells": [
  {
   "cell_type": "markdown",
   "metadata": {},
   "source": [
    "# Time Complexity Comparison\n",
    "### Author: Tomoya Tokunaga (matlto: ttokunag@ucsd.edu)\n",
    "In this notebook, I compare time complexity of well-know sorting algorithms using `time` python standard library. Algorithms which are going to be compared here are the followings:\n",
    "- Insertion sort\n",
    "- Merge Sort\n",
    "- Quick Sort\n",
    "- Heap Sort"
   ]
  },
  {
   "cell_type": "markdown",
   "metadata": {},
   "source": [
    "## How we compare time complexity\n",
    "For those who are not familiar with python, I'll introduce a basic of timing in python.\n",
    "1. `start = time.time()`\n",
    "2. `execute a sorting method we want to time`\n",
    "3. `print(time.time() - start)`\n",
    "<br><br>The first line store numerical time data into a variable named `start`. `.time()` method in `time` class returns the time at the time method called.<br>\n",
    "The second line calls a sorting algorithm. Then finally, it prints out the time difference of the time the algorithm was called and the time right after the method is done."
   ]
  },
  {
   "cell_type": "markdown",
   "metadata": {},
   "source": [
    "## Algorithm Implementation"
   ]
  },
  {
   "cell_type": "markdown",
   "metadata": {},
   "source": [
    "### Insertion sort\n",
    "Time | $O(N^2)$: <br>\n",
    "N computations for the outer loop to traverse all elements to see if they are sorted. Another maximum N computations for the loop to look backward to find the appropriate place an unsorted element to be inserted<br><br>\n",
    "Space | $O(1)$<br>\n",
    "This algorithm uses constant space for variables beacause this is **in-place** algorithm"
   ]
  },
  {
   "cell_type": "code",
   "execution_count": 1,
   "metadata": {},
   "outputs": [],
   "source": [
    "# @param arr: an array-like object to be sorted\n",
    "def insertion_sort(arr):\n",
    "    # traverses all elements to see if there are unsorted elements\n",
    "    for i in range(1, len(arr)):\n",
    "        target = arr[i]\n",
    "        insert_idx = i - 1\n",
    "        while insert_idx >= 0 and target < arr[insert_idx]:\n",
    "            # moves an element to right by 1 for the element\n",
    "            # to be inserted\n",
    "            arr[insert_idx + 1] = arr[insert_idx]\n",
    "            insert_idx -= 1\n",
    "        arr[insert_idx + 1] = target"
   ]
  },
  {
   "cell_type": "code",
   "execution_count": 2,
   "metadata": {},
   "outputs": [
    {
     "name": "stdout",
     "output_type": "stream",
     "text": [
      "Original: [123, 641, 46, 134, 624, 57, 568, 5, 68, 65, 97, 3, 562, 562, 45, 6]\n",
      "Sorted  : [3, 5, 6, 45, 46, 57, 65, 68, 97, 123, 134, 562, 562, 568, 624, 641]\n"
     ]
    }
   ],
   "source": [
    "test = [123,641,46,134,624,57,568,5,68,65,97,3,562,562,45,6]\n",
    "print(\"Original: {}\".format(test))\n",
    "insertion_sort(test)\n",
    "print(\"Sorted  : {}\".format(test))"
   ]
  },
  {
   "cell_type": "markdown",
   "metadata": {},
   "source": [
    "### Merge sort\n",
    "Time | $O(Nlog(N))$: <br>\n",
    "At most N computations for comparing two elements in a left half array and a right half array. log(N) computations for the dividing process of the given array<br><br>\n",
    "Space | $O(N)$<br>\n",
    "This algorithm needs to a sorted array for the next recursive calls. Therefore, it takes up O(N) memory"
   ]
  },
  {
   "cell_type": "code",
   "execution_count": 3,
   "metadata": {},
   "outputs": [],
   "source": [
    "def merge_sort(arr):\n",
    "    # an array length of <= 1 is already sorted\n",
    "    if len(arr) <= 1:\n",
    "        return arr\n",
    "    # set a pivot to divide the given array into two\n",
    "    pivot = len(arr)//2\n",
    "    left_arr = merge_sort(arr[:pivot])\n",
    "    right_arr = merge_sort(arr[pivot:])\n",
    "    \n",
    "    '''\n",
    "    * the following is a helper method to recursively sort subarrayslef\n",
    "    * @param left_array: the left divided array\n",
    "    * @param right_array: the right divided array\n",
    "    '''\n",
    "    def merge(left_arr, right_arr):\n",
    "        left_cur = right_cur = 0\n",
    "        res = []\n",
    "        # place a smaller element of two arrays to a smaller index\n",
    "        while left_cur < len(left_arr) and right_cur < len(right_arr):\n",
    "            if left_arr[left_cur] < right_arr[right_cur]:\n",
    "                res.append(left_arr[left_cur])\n",
    "                left_cur += 1\n",
    "            else:\n",
    "                res.append(right_arr[right_cur])\n",
    "                right_cur += 1\n",
    "        # once one array gets empty, append the other\n",
    "        res.extend(left_arr[left_cur:])\n",
    "        res.extend(right_arr[right_cur:])\n",
    "        return res\n",
    "    \n",
    "    return merge(left_arr, right_arr)"
   ]
  },
  {
   "cell_type": "code",
   "execution_count": 4,
   "metadata": {},
   "outputs": [
    {
     "name": "stdout",
     "output_type": "stream",
     "text": [
      "Original: [123, 641, 46, 134, 624, 57, 568, 5, 68, 65, 97, 3, 562, 562, 45, 6]\n",
      "Sorted  : [3, 5, 6, 45, 46, 57, 65, 68, 97, 123, 134, 562, 562, 568, 624, 641]\n"
     ]
    }
   ],
   "source": [
    "test = [123,641,46,134,624,57,568,5,68,65,97,3,562,562,45,6]\n",
    "print(\"Original: {}\".format(test))\n",
    "res = merge_sort(test)\n",
    "print(\"Sorted  : {}\".format(res))"
   ]
  },
  {
   "cell_type": "markdown",
   "metadata": {},
   "source": [
    "### Quick sort\n",
    "Time | $O(Nlog(N))$: <br>\n",
    "At most N computations for comparing elements with the pivot element. log(N) computations for the dividing process of the given array<br><br>\n",
    "Space | $O(log(N))$<br>\n",
    "This algorithm takes log(N) call stack memory everytime we call sort method for half arrays"
   ]
  },
  {
   "cell_type": "code",
   "execution_count": 5,
   "metadata": {},
   "outputs": [],
   "source": [
    "def quick_sort(arr):\n",
    "    '''\n",
    "    * a helper method to \"parition\"(sort) an array into two,\n",
    "    * that is, lower than a pivot & larger than a pivot.\n",
    "    * @param arr: an array to be partitioned\n",
    "    * @param low_idx: a lower bound of the partition range\n",
    "    * @param high_idx: a higher bound of the partition range\n",
    "    '''\n",
    "    def partition(arr, low_idx, high_idx):\n",
    "        # sets a pivot the higher index this time\n",
    "        pivot = high_idx\n",
    "        i = low_idx\n",
    "        for j in range(low_idx, high_idx):\n",
    "            if arr[j] < arr[pivot]:\n",
    "                arr[i], arr[j] = arr[j], arr[i]\n",
    "                i += 1\n",
    "        arr[i], arr[high_idx] = arr[high_idx], arr[i]\n",
    "        # returns a center index of the partitioned array\n",
    "        return i\n",
    "    '''\n",
    "    * another helper method which actually call the above partition\n",
    "    * method recursively\n",
    "    '''\n",
    "    def sort(arr, low_idx, high_idx):\n",
    "        if low_idx < high_idx:\n",
    "            p = partition(arr, low_idx, high_idx)\n",
    "            sort(arr, low_idx, p-1)\n",
    "            sort(arr, p+1, high_idx)\n",
    "    \n",
    "    sort(arr, 0, len(arr)-1)"
   ]
  },
  {
   "cell_type": "code",
   "execution_count": 6,
   "metadata": {},
   "outputs": [
    {
     "name": "stdout",
     "output_type": "stream",
     "text": [
      "Original: [123, 641, 46, 134, 624, 57, 568, 5, 68, 65, 97, 3, 562, 562, 45, 6]\n",
      "Sorted  : [3, 5, 6, 45, 46, 57, 65, 68, 97, 123, 134, 562, 562, 568, 624, 641]\n"
     ]
    }
   ],
   "source": [
    "test = [123,641,46,134,624,57,568,5,68,65,97,3,562,562,45,6]\n",
    "print(\"Original: {}\".format(test))\n",
    "quick_sort(test)\n",
    "print(\"Sorted  : {}\".format(test))"
   ]
  },
  {
   "cell_type": "markdown",
   "metadata": {},
   "source": [
    "### Heap sort\n",
    "------ we use **the Max Heap** structure here ------<br><br>\n",
    "Time | $O(Nlog(N))$: <br>\n",
    "N computations for visiting all elements in the given array. log(N) computations for heapify each element in the given array.<br><br>\n",
    "Space | $O(1)$<br>\n",
    "This algorithm takes a constant memory only for variables. Heap sort is an **in-place** algorithm"
   ]
  },
  {
   "cell_type": "code",
   "execution_count": 7,
   "metadata": {},
   "outputs": [],
   "source": [
    "def heap_sort(arr):\n",
    "    '''\n",
    "    * a helper method which places an element at the given index to the \n",
    "    * appropriate place in the max heap structure\n",
    "    * @param arr: an array which the element is in\n",
    "    * @param idx: the index of the element in the array\n",
    "    * @param size: the size of the array\n",
    "    '''\n",
    "    def percolate_down(arr, idx, size):\n",
    "        child_idx = 2*idx + 1\n",
    "        value = arr[idx]\n",
    "        while child_idx < size:\n",
    "            max_value = value\n",
    "            max_idx = -1\n",
    "            for i in range(2):\n",
    "                if child_idx + i < size and arr[child_idx + i] > max_value:\n",
    "                    max_value = arr[child_idx + i]\n",
    "                    max_idx = child_idx + i\n",
    "            if max_value == value:\n",
    "                return\n",
    "            else:\n",
    "                arr[idx], arr[max_idx] = arr[max_idx], arr[idx]\n",
    "                idx = max_idx\n",
    "                child_idx = 2*idx + 1\n",
    "    \n",
    "    # heapify the given array\n",
    "    for i in range(int((len(arr)/2) - 1), -1, -1):\n",
    "        percolate_down(arr, i, len(arr))\n",
    "    # place the max element at the end & heapify the array in the range\n",
    "    for i in range(len(arr)-1, 0, -1):\n",
    "        arr[0], arr[i] = arr[i], arr[0]\n",
    "        percolate_down(arr, 0, i)"
   ]
  },
  {
   "cell_type": "code",
   "execution_count": 8,
   "metadata": {},
   "outputs": [
    {
     "name": "stdout",
     "output_type": "stream",
     "text": [
      "Original: [123, 641, 46, 134, 624, 57, 568, 5, 68, 65, 97, 3, 562, 562, 45, 6]\n",
      "Sorted  : [3, 5, 6, 45, 46, 57, 65, 68, 97, 123, 134, 562, 562, 568, 624, 641]\n"
     ]
    }
   ],
   "source": [
    "test = [123,641,46,134,624,57,568,5,68,65,97,3,562,562,45,6]\n",
    "print(\"Original: {}\".format(test))\n",
    "heap_sort(test)\n",
    "print(\"Sorted  : {}\".format(test))"
   ]
  },
  {
   "cell_type": "markdown",
   "metadata": {},
   "source": [
    "## Time the performance of each algorithm\n",
    "### How we test performance\n",
    "First of all, Our goal here is to time each algorithm and to plot the result on a graph to visually convince which algorithm is better in general. This experiment following input rules for inputs for each algorithms:\n",
    "- input array is size of 10, 50, 100, 250, 500, 750, 1000, 2500, 5000, and 100000. \n",
    "- the numbers contained in the array range from [-500, 500]\n",
    "- the numbers are randomized by random integer generator of `random` module. <br><br>\n",
    "After we gather data by conducting timing experiment, we plot the resultant data on a graph to visually compare each performance. It's a fun time to do so!!"
   ]
  },
  {
   "cell_type": "code",
   "execution_count": 9,
   "metadata": {},
   "outputs": [],
   "source": [
    "# import time library to time the performance\n",
    "import time\n",
    "# import random module to time performance\n",
    "import random\n",
    "\n",
    "# a dictionary to call each algorithm\n",
    "algos = {\n",
    "        \"insertion\": insertion_sort,\n",
    "        \"merge\": merge_sort,\n",
    "        \"quick\": quick_sort,\n",
    "        \"heap\": heap_sort\n",
    "        }\n",
    "\n",
    "# a method to print how long a method takes to sort the given array\n",
    "def timing(arr, algo_name, history):\n",
    "    start = time.time()\n",
    "    algos[algo_name](arr)\n",
    "    # stores the time in a dataset\n",
    "    history.append(time.time() - start)\n",
    "    \n",
    "# a function to generate a list of randomized data lists\n",
    "def smpl_generator():\n",
    "    return [[random.randint(-500, 500) for _ in range(10)],\n",
    "             [random.randint(-500, 500) for _ in range(50)],\n",
    "             [random.randint(-500, 500) for _ in range(75)],\n",
    "             [random.randint(-500, 500) for _ in range(100)],\n",
    "             [random.randint(-500, 500) for _ in range(200)],\n",
    "             [random.randint(-500, 500) for _ in range(300)],\n",
    "             [random.randint(-500, 500) for _ in range(400)],\n",
    "             [random.randint(-500, 500) for _ in range(500)],\n",
    "             [random.randint(-500, 500) for _ in range(600)],\n",
    "             [random.randint(-500, 500) for _ in range(700)],\n",
    "             [random.randint(-500, 500) for _ in range(800)],\n",
    "             [random.randint(-500, 500) for _ in range(900)],\n",
    "             [random.randint(-500, 500) for _ in range(1000)]]"
   ]
  },
  {
   "cell_type": "markdown",
   "metadata": {},
   "source": [
    "### Start the experiment !!!!"
   ]
  },
  {
   "cell_type": "code",
   "execution_count": 15,
   "metadata": {},
   "outputs": [],
   "source": [
    "insertion_data = []\n",
    "for smpl in smpl_generator():\n",
    "    timing(smpl, \"insertion\", insertion_data)\n",
    "    \n",
    "heap_data = []\n",
    "for smpl in smpl_generator():\n",
    "    timing(smpl, \"heap\", heap_data)\n",
    "    \n",
    "merge_data = []\n",
    "for smpl in smpl_generator():\n",
    "    timing(smpl, \"merge\", merge_data)\n",
    "    \n",
    "quick_data = []\n",
    "for smpl in smpl_generator():\n",
    "    timing(smpl, \"quick\", quick_data)"
   ]
  },
  {
   "cell_type": "markdown",
   "metadata": {},
   "source": [
    "### Turning the result to a dataframe"
   ]
  },
  {
   "cell_type": "code",
   "execution_count": 16,
   "metadata": {},
   "outputs": [
    {
     "data": {
      "text/html": [
       "<div>\n",
       "<style scoped>\n",
       "    .dataframe tbody tr th:only-of-type {\n",
       "        vertical-align: middle;\n",
       "    }\n",
       "\n",
       "    .dataframe tbody tr th {\n",
       "        vertical-align: top;\n",
       "    }\n",
       "\n",
       "    .dataframe thead th {\n",
       "        text-align: right;\n",
       "    }\n",
       "</style>\n",
       "<table border=\"1\" class=\"dataframe\">\n",
       "  <thead>\n",
       "    <tr style=\"text-align: right;\">\n",
       "      <th></th>\n",
       "      <th>Inserttion</th>\n",
       "      <th>Heap</th>\n",
       "      <th>Merge</th>\n",
       "      <th>Quick</th>\n",
       "    </tr>\n",
       "  </thead>\n",
       "  <tbody>\n",
       "    <tr>\n",
       "      <th>10</th>\n",
       "      <td>0.000012</td>\n",
       "      <td>0.000084</td>\n",
       "      <td>0.000024</td>\n",
       "      <td>0.000014</td>\n",
       "    </tr>\n",
       "    <tr>\n",
       "      <th>50</th>\n",
       "      <td>0.000138</td>\n",
       "      <td>0.000154</td>\n",
       "      <td>0.000114</td>\n",
       "      <td>0.000048</td>\n",
       "    </tr>\n",
       "    <tr>\n",
       "      <th>75</th>\n",
       "      <td>0.000238</td>\n",
       "      <td>0.000252</td>\n",
       "      <td>0.000184</td>\n",
       "      <td>0.000093</td>\n",
       "    </tr>\n",
       "    <tr>\n",
       "      <th>100</th>\n",
       "      <td>0.000508</td>\n",
       "      <td>0.000435</td>\n",
       "      <td>0.000250</td>\n",
       "      <td>0.000108</td>\n",
       "    </tr>\n",
       "    <tr>\n",
       "      <th>200</th>\n",
       "      <td>0.001580</td>\n",
       "      <td>0.000921</td>\n",
       "      <td>0.000557</td>\n",
       "      <td>0.000232</td>\n",
       "    </tr>\n",
       "    <tr>\n",
       "      <th>300</th>\n",
       "      <td>0.004707</td>\n",
       "      <td>0.001412</td>\n",
       "      <td>0.000893</td>\n",
       "      <td>0.000432</td>\n",
       "    </tr>\n",
       "    <tr>\n",
       "      <th>400</th>\n",
       "      <td>0.006432</td>\n",
       "      <td>0.001982</td>\n",
       "      <td>0.001231</td>\n",
       "      <td>0.000542</td>\n",
       "    </tr>\n",
       "    <tr>\n",
       "      <th>500</th>\n",
       "      <td>0.010253</td>\n",
       "      <td>0.002674</td>\n",
       "      <td>0.001612</td>\n",
       "      <td>0.000781</td>\n",
       "    </tr>\n",
       "    <tr>\n",
       "      <th>600</th>\n",
       "      <td>0.014539</td>\n",
       "      <td>0.003340</td>\n",
       "      <td>0.001922</td>\n",
       "      <td>0.001165</td>\n",
       "    </tr>\n",
       "    <tr>\n",
       "      <th>700</th>\n",
       "      <td>0.018061</td>\n",
       "      <td>0.004064</td>\n",
       "      <td>0.002292</td>\n",
       "      <td>0.001132</td>\n",
       "    </tr>\n",
       "    <tr>\n",
       "      <th>800</th>\n",
       "      <td>0.023621</td>\n",
       "      <td>0.005525</td>\n",
       "      <td>0.002702</td>\n",
       "      <td>0.001312</td>\n",
       "    </tr>\n",
       "    <tr>\n",
       "      <th>900</th>\n",
       "      <td>0.029463</td>\n",
       "      <td>0.005721</td>\n",
       "      <td>0.003024</td>\n",
       "      <td>0.001529</td>\n",
       "    </tr>\n",
       "    <tr>\n",
       "      <th>1000</th>\n",
       "      <td>0.038462</td>\n",
       "      <td>0.006106</td>\n",
       "      <td>0.003192</td>\n",
       "      <td>0.001904</td>\n",
       "    </tr>\n",
       "  </tbody>\n",
       "</table>\n",
       "</div>"
      ],
      "text/plain": [
       "      Inserttion      Heap     Merge     Quick\n",
       "10      0.000012  0.000084  0.000024  0.000014\n",
       "50      0.000138  0.000154  0.000114  0.000048\n",
       "75      0.000238  0.000252  0.000184  0.000093\n",
       "100     0.000508  0.000435  0.000250  0.000108\n",
       "200     0.001580  0.000921  0.000557  0.000232\n",
       "300     0.004707  0.001412  0.000893  0.000432\n",
       "400     0.006432  0.001982  0.001231  0.000542\n",
       "500     0.010253  0.002674  0.001612  0.000781\n",
       "600     0.014539  0.003340  0.001922  0.001165\n",
       "700     0.018061  0.004064  0.002292  0.001132\n",
       "800     0.023621  0.005525  0.002702  0.001312\n",
       "900     0.029463  0.005721  0.003024  0.001529\n",
       "1000    0.038462  0.006106  0.003192  0.001904"
      ]
     },
     "execution_count": 16,
     "metadata": {},
     "output_type": "execute_result"
    }
   ],
   "source": [
    "# pandas is great at creating a dataframe\n",
    "import pandas as pd\n",
    "\n",
    "result = pd.DataFrame(data={\"Inserttion\": insertion_data, \n",
    "                            \"Heap\": heap_data, \n",
    "                            \"Merge\": merge_data, \n",
    "                            \"Quick\": quick_data}, \n",
    "                      index=[10,50,75,100,200,300,400,500,600,700,800,900,1000])\n",
    "result"
   ]
  },
  {
   "cell_type": "markdown",
   "metadata": {},
   "source": [
    "# Graph the Result & Conclusion\n",
    "Now it's time to fun! From this section we draw a line chart graph of the resultant data from the previous experiment. We're going to use a module `matplotlib` and `pandas` to draw and save images."
   ]
  },
  {
   "cell_type": "code",
   "execution_count": 17,
   "metadata": {},
   "outputs": [
    {
     "data": {
      "text/plain": [
       "<Figure size 7200x576 with 0 Axes>"
      ]
     },
     "metadata": {},
     "output_type": "display_data"
    },
    {
     "data": {
      "image/png": "[encoded data removed]",
      "text/plain": [
       "<Figure size 432x288 with 1 Axes>"
      ]
     },
     "metadata": {
      "needs_background": "light"
     },
     "output_type": "display_data"
    }
   ],
   "source": [
    "# import a module for graphing\n",
    "import matplotlib.pyplot as plt\n",
    "\n",
    "# the followings generate a graph and save it as an image file\n",
    "df = result.cumsum()\n",
    "fig = plt.figure(figsize=(100,8))\n",
    "df.plot()\n",
    "plt.savefig('result1.png', dpi=130)"
   ]
  },
  {
   "cell_type": "markdown",
   "metadata": {},
   "source": [
    "The graph shows the obvious performance difference of the Insertion sort and the other algorithms. As we've seen in the implementation part, the Insertion sort is the worst time complexity of $O(N^2)$ while the others are only $O(Nlog(N))$. So, it's safe to say that the Insertion sort should avoid to be used from the result.<br><br>\n",
    "**However**, one thing we should mention is the Insertion sort performance of smaller size dataset. The data table above shows that the Insertion sort is faster than the Merge and Heap sort until the size of dataset gets 50~75. Algorithmically speaking, the Insertion sort is better choice if a dataset is almost sorted and relatively small(around ~75). The result of this experiment shows the good aspect of the Insertion sort."
   ]
  },
  {
   "cell_type": "markdown",
   "metadata": {},
   "source": [
    "Now let's draw another graph to see the other 3 algorithms performance. We omit the data of the Insertion sort from the dataset, and draw a graph based on that."
   ]
  },
  {
   "cell_type": "code",
   "execution_count": 18,
   "metadata": {},
   "outputs": [
    {
     "data": {
      "text/html": [
       "<div>\n",
       "<style scoped>\n",
       "    .dataframe tbody tr th:only-of-type {\n",
       "        vertical-align: middle;\n",
       "    }\n",
       "\n",
       "    .dataframe tbody tr th {\n",
       "        vertical-align: top;\n",
       "    }\n",
       "\n",
       "    .dataframe thead th {\n",
       "        text-align: right;\n",
       "    }\n",
       "</style>\n",
       "<table border=\"1\" class=\"dataframe\">\n",
       "  <thead>\n",
       "    <tr style=\"text-align: right;\">\n",
       "      <th></th>\n",
       "      <th>Heap</th>\n",
       "      <th>Merge</th>\n",
       "      <th>Quick</th>\n",
       "    </tr>\n",
       "  </thead>\n",
       "  <tbody>\n",
       "    <tr>\n",
       "      <th>10</th>\n",
       "      <td>0.000084</td>\n",
       "      <td>0.000024</td>\n",
       "      <td>0.000014</td>\n",
       "    </tr>\n",
       "    <tr>\n",
       "      <th>50</th>\n",
       "      <td>0.000154</td>\n",
       "      <td>0.000114</td>\n",
       "      <td>0.000048</td>\n",
       "    </tr>\n",
       "    <tr>\n",
       "      <th>75</th>\n",
       "      <td>0.000252</td>\n",
       "      <td>0.000184</td>\n",
       "      <td>0.000093</td>\n",
       "    </tr>\n",
       "    <tr>\n",
       "      <th>100</th>\n",
       "      <td>0.000435</td>\n",
       "      <td>0.000250</td>\n",
       "      <td>0.000108</td>\n",
       "    </tr>\n",
       "    <tr>\n",
       "      <th>200</th>\n",
       "      <td>0.000921</td>\n",
       "      <td>0.000557</td>\n",
       "      <td>0.000232</td>\n",
       "    </tr>\n",
       "    <tr>\n",
       "      <th>300</th>\n",
       "      <td>0.001412</td>\n",
       "      <td>0.000893</td>\n",
       "      <td>0.000432</td>\n",
       "    </tr>\n",
       "    <tr>\n",
       "      <th>400</th>\n",
       "      <td>0.001982</td>\n",
       "      <td>0.001231</td>\n",
       "      <td>0.000542</td>\n",
       "    </tr>\n",
       "    <tr>\n",
       "      <th>500</th>\n",
       "      <td>0.002674</td>\n",
       "      <td>0.001612</td>\n",
       "      <td>0.000781</td>\n",
       "    </tr>\n",
       "    <tr>\n",
       "      <th>600</th>\n",
       "      <td>0.003340</td>\n",
       "      <td>0.001922</td>\n",
       "      <td>0.001165</td>\n",
       "    </tr>\n",
       "    <tr>\n",
       "      <th>700</th>\n",
       "      <td>0.004064</td>\n",
       "      <td>0.002292</td>\n",
       "      <td>0.001132</td>\n",
       "    </tr>\n",
       "    <tr>\n",
       "      <th>800</th>\n",
       "      <td>0.005525</td>\n",
       "      <td>0.002702</td>\n",
       "      <td>0.001312</td>\n",
       "    </tr>\n",
       "    <tr>\n",
       "      <th>900</th>\n",
       "      <td>0.005721</td>\n",
       "      <td>0.003024</td>\n",
       "      <td>0.001529</td>\n",
       "    </tr>\n",
       "    <tr>\n",
       "      <th>1000</th>\n",
       "      <td>0.006106</td>\n",
       "      <td>0.003192</td>\n",
       "      <td>0.001904</td>\n",
       "    </tr>\n",
       "  </tbody>\n",
       "</table>\n",
       "</div>"
      ],
      "text/plain": [
       "          Heap     Merge     Quick\n",
       "10    0.000084  0.000024  0.000014\n",
       "50    0.000154  0.000114  0.000048\n",
       "75    0.000252  0.000184  0.000093\n",
       "100   0.000435  0.000250  0.000108\n",
       "200   0.000921  0.000557  0.000232\n",
       "300   0.001412  0.000893  0.000432\n",
       "400   0.001982  0.001231  0.000542\n",
       "500   0.002674  0.001612  0.000781\n",
       "600   0.003340  0.001922  0.001165\n",
       "700   0.004064  0.002292  0.001132\n",
       "800   0.005525  0.002702  0.001312\n",
       "900   0.005721  0.003024  0.001529\n",
       "1000  0.006106  0.003192  0.001904"
      ]
     },
     "execution_count": 18,
     "metadata": {},
     "output_type": "execute_result"
    }
   ],
   "source": [
    "result = pd.DataFrame(data={\"Heap\": heap_data, \n",
    "                            \"Merge\": merge_data, \n",
    "                            \"Quick\": quick_data}, \n",
    "                      index=[10,50,75,100,200,300,400,500,600,700,800,900,1000])\n",
    "result"
   ]
  },
  {
   "cell_type": "code",
   "execution_count": 19,
   "metadata": {},
   "outputs": [
    {
     "data": {
      "text/plain": [
       "<Figure size 7200x576 with 0 Axes>"
      ]
     },
     "metadata": {},
     "output_type": "display_data"
    },
    {
     "data": {
      "image/png": "[encoded data removed]",
      "text/plain": [
       "<Figure size 432x288 with 1 Axes>"
      ]
     },
     "metadata": {
      "needs_background": "light"
     },
     "output_type": "display_data"
    }
   ],
   "source": [
    "df = result.cumsum()\n",
    "fig = plt.figure(figsize=(100,8))\n",
    "df.plot()\n",
    "plt.savefig('result2.png', dpi=130)"
   ]
  },
  {
   "cell_type": "markdown",
   "metadata": {},
   "source": [
    "This is a very clean result. It says that the Heap sort is the slowest among the three, then the Merge sort and the Quick sort. So, we can conclude that the **Quick sort** is the fastest sorting algorithm (the name actually comes from this result).<br><br>\n",
    "However, we cannot say something like *\"Okay, so because the Quick sort is the quickest way to sort an array, let's use it every time we need to sort\"*. This is because things which determine what algorithms is better to use is not only how fast it is. It's determined also by how memory efficient it is or what situation it should be used.<br><br>\n",
    "For example, as I mentioned the Insertion sort is better than others at the situation where elements are almost sorted. Also, the Heap sort may be chosen over the Quick sort because the Heap sort is a constant memory algorithm ($O(1)$) while the Quick sort is $O(log(N))$.\n",
    "<br><br>\n",
    "In conclusion, in most of the case actually, we may choose the Quick sort because of its speed. Nevertheless, we should not blindly use it solely because it's known as fastest. We definitely choose our algorithm with comprehensive understanding of situations."
   ]
  },
  {
   "cell_type": "code",
   "execution_count": null,
   "metadata": {},
   "outputs": [],
   "source": []
  }
 ],
 "metadata": {
  "kernelspec": {
   "display_name": "Python 3",
   "language": "python",
   "name": "python3"
  },
  "language_info": {
   "codemirror_mode": {
    "name": "ipython",
    "version": 3
   },
   "file_extension": ".py",
   "mimetype": "text/x-python",
   "name": "python",
   "nbconvert_exporter": "python",
   "pygments_lexer": "ipython3",
   "version": "3.7.1"
  }
 },
 "nbformat": 4,
 "nbformat_minor": 2
}
