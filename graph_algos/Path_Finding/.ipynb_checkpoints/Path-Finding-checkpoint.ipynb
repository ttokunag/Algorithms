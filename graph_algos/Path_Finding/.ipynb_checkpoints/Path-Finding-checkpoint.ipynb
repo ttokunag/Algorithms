{
 "cells": [
  {
   "cell_type": "markdown",
   "metadata": {},
   "source": [
    "# Path-Finding Algorithms Comparison\n",
    "### Author: Tomoya Tokunga(mailto: ttokunag@ucsd.edu)\n",
    "This note compare path finding algorithms used in graph data structure, Breadth-First & Depth-First Search. First, it introduces how the algorithms work, and then compare them from runtime perspective. We consider 2 cases: when the path exists, and does not.<br>\n",
    "(*For the sake of simplicity, we only consider a case of finding a path between upper-leftmost and lower-rightmost elements in a matrix)"
   ]
  },
  {
   "cell_type": "markdown",
   "metadata": {},
   "source": [
    "### DFS Traversal\n",
    "$O(N)$ time | $O(N)$ space (where $N$ is the # of nodes in a graph)"
   ]
  },
  {
   "cell_type": "code",
   "execution_count": 1,
   "metadata": {},
   "outputs": [],
   "source": [
    "# returns True if the path exists\n",
    "def path_find_dfs(grid):\n",
    "    visited = []\n",
    "    stack = [(0,0)]\n",
    "    while stack:\n",
    "        node = stack.pop()\n",
    "        if node not in visited:\n",
    "            if node[0]-1 >= 0 and grid[node[0]-1][node[1]] == 1:\n",
    "                stack.append((node[0]-1, node[1]))\n",
    "            if node[0]+1 < len(grid) and grid[node[0]+1][node[1]] == 1:\n",
    "                stack.append((node[0]+1, node[1]))\n",
    "            if node[1]-1 >= 0 and grid[node[0]][node[1]-1] == 1:\n",
    "                stack.append((node[0], node[1]-1))\n",
    "            if node[1]+1 < len(grid[0]) and grid[node[0]][node[1]+1] == 1:\n",
    "                stack.append((node[0], node[1]+1))\n",
    "            # destination coordinate\n",
    "            if (len(grid)-1, len(grid[0])-1) in stack:\n",
    "                return True\n",
    "        visited.append(node)\n",
    "    return False"
   ]
  },
  {
   "cell_type": "markdown",
   "metadata": {},
   "source": [
    "### BFS Traversal\n",
    "$O(N)$ time | $O(N)$ space (where $N$ is the # of nodes in a graph)"
   ]
  },
  {
   "cell_type": "code",
   "execution_count": 2,
   "metadata": {},
   "outputs": [],
   "source": [
    "# returns True if the path exists\n",
    "def path_find_bfs(grid):\n",
    "    visited = []\n",
    "    queue = [(0,0)]\n",
    "    while queue:\n",
    "        node = queue.pop(0)\n",
    "        if node not in visited:\n",
    "            if node[0]-1 >= 0 and grid[node[0]-1][node[1]] == 1:\n",
    "                queue.append((node[0]-1, node[1]))\n",
    "            if node[0]+1 < len(grid) and grid[node[0]+1][node[1]] == 1:\n",
    "                queue.append((node[0]+1, node[1]))\n",
    "            if node[1]-1 >= 0 and grid[node[0]][node[1]-1] == 1:\n",
    "                queue.append((node[0], node[1]-1))\n",
    "            if node[1]+1 < len(grid[0]) and grid[node[0]][node[1]+1] == 1:\n",
    "                queue.append((node[0], node[1]+1))\n",
    "            # destination coordinate\n",
    "            if (len(grid)-1, len(grid[0])-1) in queue:\n",
    "                return True\n",
    "        visited.append(node)\n",
    "    return False"
   ]
  },
  {
   "cell_type": "markdown",
   "metadata": {},
   "source": [
    "## Compare the performances\n",
    "Now we compare 2 functions performance with timing module, `time` and data-plotting module `Pandas` and `pyplot`"
   ]
  },
  {
   "cell_type": "code",
   "execution_count": 3,
   "metadata": {},
   "outputs": [],
   "source": [
    "# it times runtime and is helpful to compare performance\n",
    "import time\n",
    "\n",
    "# a dictionary to call each algorithm\n",
    "algos = {\n",
    "        \"bfs\": path_find_bfs,\n",
    "        \"dfs\": path_find_dfs\n",
    "        }\n",
    "\n",
    "# a method to print how long a method takes to sort the given array\n",
    "def timing(grid, algo_name, history):\n",
    "    start = time.time()\n",
    "    algos[algo_name](grid)\n",
    "    # stores the time in a dataset\n",
    "    history.append(time.time() - start)"
   ]
  },
  {
   "cell_type": "markdown",
   "metadata": {},
   "source": [
    "### Performance comparison when the path exists\n",
    "The test case matrices follow the following conditions\n",
    "- There is only one correct path to reach the goal\n",
    "- matrices contains at least one cycle if the size is >= 5"
   ]
  },
  {
   "cell_type": "markdown",
   "metadata": {},
   "source": [
    "The input file for testing path-finding algorithms are stored in the `Input_Texts` directory named `input_T.txt` and `input_F.txt`. Sample data in `input_T.txt` has a connection between the start point to the destination while `input_F.txt` doesn't."
   ]
  },
  {
   "cell_type": "code",
   "execution_count": 4,
   "metadata": {},
   "outputs": [],
   "source": [
    "# reads a text file & clean it\n",
    "input_T = open(r'input_T.txt', 'r').read().split('\\n')[2:]\n",
    "# removes blank spaces\n",
    "for i in input_T:\n",
    "    if 'grid' in i:\n",
    "        input_T.remove(i)\n",
    "        \n",
    "# turn the text data into integer matrix\n",
    "mats, temp_line = [], []\n",
    "flag = -1\n",
    "for i in range(len(input_T)):\n",
    "    if len(input_T[i]) == 0:\n",
    "        flag *= -1\n",
    "        if flag == -1:\n",
    "            mats.append(temp_line)\n",
    "            temp_line = []\n",
    "    elif flag == 1:\n",
    "        temp = list(map(int, input_T[i].split(',')))\n",
    "        temp_line.append(temp)"
   ]
  },
  {
   "cell_type": "markdown",
   "metadata": {},
   "source": [
    "Now we conduct the experiment for the case nodes are connected."
   ]
  },
  {
   "cell_type": "code",
   "execution_count": 5,
   "metadata": {},
   "outputs": [
    {
     "data": {
      "text/html": [
       "<div>\n",
       "<style scoped>\n",
       "    .dataframe tbody tr th:only-of-type {\n",
       "        vertical-align: middle;\n",
       "    }\n",
       "\n",
       "    .dataframe tbody tr th {\n",
       "        vertical-align: top;\n",
       "    }\n",
       "\n",
       "    .dataframe thead th {\n",
       "        text-align: right;\n",
       "    }\n",
       "</style>\n",
       "<table border=\"1\" class=\"dataframe\">\n",
       "  <thead>\n",
       "    <tr style=\"text-align: right;\">\n",
       "      <th></th>\n",
       "      <th>BFS</th>\n",
       "      <th>DFS</th>\n",
       "    </tr>\n",
       "  </thead>\n",
       "  <tbody>\n",
       "    <tr>\n",
       "      <th>3</th>\n",
       "      <td>0.000014</td>\n",
       "      <td>0.000008</td>\n",
       "    </tr>\n",
       "    <tr>\n",
       "      <th>5</th>\n",
       "      <td>0.000040</td>\n",
       "      <td>0.000036</td>\n",
       "    </tr>\n",
       "    <tr>\n",
       "      <th>7</th>\n",
       "      <td>0.000093</td>\n",
       "      <td>0.000036</td>\n",
       "    </tr>\n",
       "    <tr>\n",
       "      <th>9</th>\n",
       "      <td>0.000136</td>\n",
       "      <td>0.000093</td>\n",
       "    </tr>\n",
       "    <tr>\n",
       "      <th>11</th>\n",
       "      <td>0.000361</td>\n",
       "      <td>0.000055</td>\n",
       "    </tr>\n",
       "    <tr>\n",
       "      <th>13</th>\n",
       "      <td>0.000531</td>\n",
       "      <td>0.000090</td>\n",
       "    </tr>\n",
       "    <tr>\n",
       "      <th>15</th>\n",
       "      <td>0.000740</td>\n",
       "      <td>0.000568</td>\n",
       "    </tr>\n",
       "    <tr>\n",
       "      <th>17</th>\n",
       "      <td>0.001262</td>\n",
       "      <td>0.000560</td>\n",
       "    </tr>\n",
       "  </tbody>\n",
       "</table>\n",
       "</div>"
      ],
      "text/plain": [
       "         BFS       DFS\n",
       "3   0.000014  0.000008\n",
       "5   0.000040  0.000036\n",
       "7   0.000093  0.000036\n",
       "9   0.000136  0.000093\n",
       "11  0.000361  0.000055\n",
       "13  0.000531  0.000090\n",
       "15  0.000740  0.000568\n",
       "17  0.001262  0.000560"
      ]
     },
     "execution_count": 5,
     "metadata": {},
     "output_type": "execute_result"
    }
   ],
   "source": [
    "import pandas as pd\n",
    "\n",
    "bfs_data_T, dfs_data_T = [], []\n",
    "for grid in mats:\n",
    "    timing(grid, 'bfs', bfs_data_T)\n",
    "for grid in mats:\n",
    "    timing(grid, 'dfs', dfs_data_T)\n",
    "\n",
    "# make the dataframe from the resultant\n",
    "result = pd.DataFrame({'BFS': bfs_data_T,\n",
    "                    'DFS': dfs_data_T}, index=[3, 5, 7, 9, 11, 13, 15, 17])\n",
    "result"
   ]
  },
  {
   "cell_type": "code",
   "execution_count": 7,
   "metadata": {},
   "outputs": [
    {
     "data": {
      "text/plain": [
       "<Figure size 432x288 with 0 Axes>"
      ]
     },
     "metadata": {},
     "output_type": "display_data"
    },
    {
     "data": {
      "image/png": "[encoded data removed]",
      "text/plain": [
       "<Figure size 432x288 with 1 Axes>"
      ]
     },
     "metadata": {
      "needs_background": "light"
     },
     "output_type": "display_data"
    }
   ],
   "source": [
    "import matplotlib.pyplot as plt\n",
    "\n",
    "df = result.cumsum()\n",
    "fig = plt.figure()\n",
    "df.plot()\n",
    "plt.savefig('runtime_analysisT.png', dpi=130)"
   ]
  },
  {
   "cell_type": "markdown",
   "metadata": {},
   "source": [
    "#### Result analysis\n",
    "The graph tells that BFS gets slow much earlier than DFS if there exists a path. This is because DFS algorithm go further and further at first until it reaches an end, so it can reach the furthest point (the path end) earlier than BFS."
   ]
  },
  {
   "cell_type": "markdown",
   "metadata": {},
   "source": [
    "### Performance comparison when the path does NOT exist"
   ]
  },
  {
   "cell_type": "code",
   "execution_count": 8,
   "metadata": {},
   "outputs": [],
   "source": [
    "# reads a text file & clean it\n",
    "input_F = open(r'input_F.txt', 'r').read().split('\\n')[2:]\n",
    "# removes blank spaces\n",
    "for i in input_F:\n",
    "    if 'grid' in i:\n",
    "        input_F.remove(i)\n",
    "        \n",
    "# turn the text data into integer matrix\n",
    "mats_F, temp_line = [], []\n",
    "flag = -1\n",
    "for i in range(len(input_F)):\n",
    "    if len(input_F[i]) == 0:\n",
    "        flag *= -1\n",
    "        if flag == -1:\n",
    "            mats_F.append(temp_line)\n",
    "            temp_line = []\n",
    "    elif flag == 1:\n",
    "        temp = list(map(int, input_F[i].split(',')))\n",
    "        temp_line.append(temp)"
   ]
  },
  {
   "cell_type": "markdown",
   "metadata": {},
   "source": [
    "Now we conduct the experiment for the case nodes are NOT connected."
   ]
  },
  {
   "cell_type": "code",
   "execution_count": 11,
   "metadata": {},
   "outputs": [
    {
     "data": {
      "text/html": [
       "<div>\n",
       "<style scoped>\n",
       "    .dataframe tbody tr th:only-of-type {\n",
       "        vertical-align: middle;\n",
       "    }\n",
       "\n",
       "    .dataframe tbody tr th {\n",
       "        vertical-align: top;\n",
       "    }\n",
       "\n",
       "    .dataframe thead th {\n",
       "        text-align: right;\n",
       "    }\n",
       "</style>\n",
       "<table border=\"1\" class=\"dataframe\">\n",
       "  <thead>\n",
       "    <tr style=\"text-align: right;\">\n",
       "      <th></th>\n",
       "      <th>BFS</th>\n",
       "      <th>DFS</th>\n",
       "    </tr>\n",
       "  </thead>\n",
       "  <tbody>\n",
       "    <tr>\n",
       "      <th>3</th>\n",
       "      <td>0.000019</td>\n",
       "      <td>0.000017</td>\n",
       "    </tr>\n",
       "    <tr>\n",
       "      <th>5</th>\n",
       "      <td>0.000114</td>\n",
       "      <td>0.000103</td>\n",
       "    </tr>\n",
       "    <tr>\n",
       "      <th>7</th>\n",
       "      <td>0.000108</td>\n",
       "      <td>0.000101</td>\n",
       "    </tr>\n",
       "    <tr>\n",
       "      <th>9</th>\n",
       "      <td>0.000232</td>\n",
       "      <td>0.000213</td>\n",
       "    </tr>\n",
       "    <tr>\n",
       "      <th>11</th>\n",
       "      <td>0.000449</td>\n",
       "      <td>0.000421</td>\n",
       "    </tr>\n",
       "    <tr>\n",
       "      <th>13</th>\n",
       "      <td>0.000793</td>\n",
       "      <td>0.000839</td>\n",
       "    </tr>\n",
       "    <tr>\n",
       "      <th>15</th>\n",
       "      <td>0.001118</td>\n",
       "      <td>0.000988</td>\n",
       "    </tr>\n",
       "    <tr>\n",
       "      <th>17</th>\n",
       "      <td>0.002055</td>\n",
       "      <td>0.001449</td>\n",
       "    </tr>\n",
       "  </tbody>\n",
       "</table>\n",
       "</div>"
      ],
      "text/plain": [
       "         BFS       DFS\n",
       "3   0.000019  0.000017\n",
       "5   0.000114  0.000103\n",
       "7   0.000108  0.000101\n",
       "9   0.000232  0.000213\n",
       "11  0.000449  0.000421\n",
       "13  0.000793  0.000839\n",
       "15  0.001118  0.000988\n",
       "17  0.002055  0.001449"
      ]
     },
     "execution_count": 11,
     "metadata": {},
     "output_type": "execute_result"
    }
   ],
   "source": [
    "bfs_data_F, dfs_data_F = [], []\n",
    "for grid in mats_F:\n",
    "    timing(grid, 'bfs', bfs_data_F)\n",
    "for grid in mats_F:\n",
    "    timing(grid, 'dfs', dfs_data_F)\n",
    "\n",
    "# make the dataframe from the resultant\n",
    "result = pd.DataFrame({'BFS': bfs_data_F,\n",
    "                       'DFS': dfs_data_F}, index=[3, 5, 7, 9, 11, 13, 15, 17])\n",
    "result"
   ]
  },
  {
   "cell_type": "code",
   "execution_count": 12,
   "metadata": {},
   "outputs": [
    {
     "data": {
      "text/plain": [
       "<Figure size 432x288 with 0 Axes>"
      ]
     },
     "metadata": {},
     "output_type": "display_data"
    },
    {
     "data": {
      "image/png": "[encoded data removed]",
      "text/plain": [
       "<Figure size 432x288 with 1 Axes>"
      ]
     },
     "metadata": {
      "needs_background": "light"
     },
     "output_type": "display_data"
    }
   ],
   "source": [
    "df = result.cumsum()\n",
    "fig = plt.figure()\n",
    "df.plot()\n",
    "plt.savefig('runtime_analysisF.png', dpi=130)"
   ]
  },
  {
   "cell_type": "markdown",
   "metadata": {},
   "source": [
    "#### Result analysis\n",
    "The graph says that when it comes to the case where there does not exist a path between two ends, there is no very noticeable difference between BFS and DFS. This is because both algorithms have to visit all nodes in a graph to find a path while they don't have to if a path exists."
   ]
  },
  {
   "cell_type": "markdown",
   "metadata": {},
   "source": [
    "### Conclusion\n",
    "By the result of the above two analysis, we can conclude that DFS can be better than BFS at a certain situation(we conduct this experiment under several restrictions: start & end points are fixed, graph data is not fully randomized, etc) if we just want to find if there exists a path. We can expand this topic more like finding a shortest path or detecting a cycle."
   ]
  },
  {
   "cell_type": "code",
   "execution_count": null,
   "metadata": {},
   "outputs": [],
   "source": []
  }
 ],
 "metadata": {
  "kernelspec": {
   "display_name": "Python 3",
   "language": "python",
   "name": "python3"
  },
  "language_info": {
   "codemirror_mode": {
    "name": "ipython",
    "version": 3
   },
   "file_extension": ".py",
   "mimetype": "text/x-python",
   "name": "python",
   "nbconvert_exporter": "python",
   "pygments_lexer": "ipython3",
   "version": "3.7.1"
  }
 },
 "nbformat": 4,
 "nbformat_minor": 2
}
