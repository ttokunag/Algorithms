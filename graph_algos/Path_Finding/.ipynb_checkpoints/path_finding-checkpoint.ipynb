{
 "cells": [
  {
   "cell_type": "markdown",
   "metadata": {},
   "source": [
    "# Path Finding Algo. Comparison\n",
    "### Tomoya Tokunga\n",
    "This note compare path finding algorithms used in graph data structure, Breadth-First & Depth-First Search. First, it introduces how the algorithms work, and then compare them from runtime perspective. We consider 2 cases: when the path exists, and does not.<br>\n",
    "(*For the sake of simplicity, we only consider a case of finding a path between upper-leftmost and lower-rightmost elements in a matrix)"
   ]
  },
  {
   "cell_type": "markdown",
   "metadata": {},
   "source": [
    "### DFS Traversal\n",
    "$O(N)$ time | $O(N)$ space (where $N$ is the # of nodes in a graph)"
   ]
  },
  {
   "cell_type": "code",
   "execution_count": 1,
   "metadata": {},
   "outputs": [],
   "source": [
    "# returns True if the path exists\n",
    "def path_find_dfs(grid):\n",
    "    visited = []\n",
    "    stack = [(0,0)]\n",
    "    while stack:\n",
    "        node = stack.pop()\n",
    "        if node not in visited:\n",
    "            if node[0]-1 >= 0 and grid[node[0]-1][node[1]] == 1:\n",
    "                stack.append((node[0]-1, node[1]))\n",
    "            if node[0]+1 < len(grid) and grid[node[0]+1][node[1]] == 1:\n",
    "                stack.append((node[0]+1, node[1]))\n",
    "            if node[1]-1 >= 0 and grid[node[0]][node[1]-1] == 1:\n",
    "                stack.append((node[0], node[1]-1))\n",
    "            if node[1]+1 < len(grid[0]) and grid[node[0]][node[1]+1] == 1:\n",
    "                stack.append((node[0], node[1]+1))\n",
    "            # destination coordinate\n",
    "            if (len(grid)-1, len(grid[0])-1) in stack:\n",
    "                return True\n",
    "        visited.append(node)\n",
    "    return False"
   ]
  },
  {
   "cell_type": "markdown",
   "metadata": {},
   "source": [
    "### BFS Traversal\n",
    "$O(N)$ time | $O(N)$ space (where $N$ is the # of nodes in a graph)"
   ]
  },
  {
   "cell_type": "code",
   "execution_count": 2,
   "metadata": {},
   "outputs": [],
   "source": [
    "# returns True if the path exists\n",
    "def path_find_bfs(grid):\n",
    "    visited = []\n",
    "    queue = [(0,0)]\n",
    "    while queue:\n",
    "        node = queue.pop(0)\n",
    "        if node not in visited:\n",
    "            if node[0]-1 >= 0 and grid[node[0]-1][node[1]] == 1:\n",
    "                queue.append((node[0]-1, node[1]))\n",
    "            if node[0]+1 < len(grid) and grid[node[0]+1][node[1]] == 1:\n",
    "                queue.append((node[0]+1, node[1]))\n",
    "            if node[1]-1 >= 0 and grid[node[0]][node[1]-1] == 1:\n",
    "                queue.append((node[0], node[1]-1))\n",
    "            if node[1]+1 < len(grid[0]) and grid[node[0]][node[1]+1] == 1:\n",
    "                queue.append((node[0], node[1]+1))\n",
    "            # destination coordinate\n",
    "            if (len(grid)-1, len(grid[0])-1) in queue:\n",
    "                return True\n",
    "        visited.append(node)\n",
    "    return False"
   ]
  },
  {
   "cell_type": "markdown",
   "metadata": {},
   "source": [
    "## Compare the performances\n",
    "Now we compare 2 functions performance with timing module, `time` and data-plotting module `Pandas` and `pyplot`"
   ]
  },
  {
   "cell_type": "code",
   "execution_count": 3,
   "metadata": {},
   "outputs": [],
   "source": [
    "# it times runtime and is helpful to compare performance\n",
    "import time\n",
    "# imports several modules in order to draw graphs\n",
    "import pandas as pd\n",
    "import matplotlib.pyplot as plt\n",
    "\n",
    "# the followings time each function\n",
    "def time_bfs(grid):\n",
    "    start = time.time()\n",
    "    res = path_find_bfs(grid)\n",
    "    t = time.time()-start\n",
    "    bfs_data_T.append(t)\n",
    "    print(\"bfs: {0:.10f}\".format(t) + \" ({})\".format(str(res)))\n",
    "def time_dfs(grid):\n",
    "    start = time.time()\n",
    "    res = path_find_dfs(grid)\n",
    "    t = time.time()-start\n",
    "    dfs_data_T.append(t)\n",
    "    print(\"dfs: {0:.10f}\".format(t) + \" ({})\".format(str(res)))"
   ]
  },
  {
   "cell_type": "markdown",
   "metadata": {},
   "source": [
    "### Performance comparison when the path exists"
   ]
  },
  {
   "cell_type": "code",
   "execution_count": 4,
   "metadata": {},
   "outputs": [
    {
     "name": "stdout",
     "output_type": "stream",
     "text": [
      "bfs: 0.0000226498 (True)\n",
      "bfs: 0.0000338554 (True)\n",
      "bfs: 0.0001127720 (True)\n",
      "bfs: 0.0002040863 (True)\n",
      "bfs: 0.0002050400 (True)\n",
      "bfs: 0.0020289421 (True)\n",
      "\n",
      "dfs: 0.0000109673 (True)\n",
      "dfs: 0.0000262260 (True)\n",
      "dfs: 0.0000407696 (True)\n",
      "dfs: 0.0000882149 (True)\n",
      "dfs: 0.0000929832 (True)\n",
      "dfs: 0.0002269745 (True)\n"
     ]
    },
    {
     "data": {
      "image/png": "[encoded data removed]",
      "text/plain": [
       "<Figure size 432x288 with 1 Axes>"
      ]
     },
     "metadata": {
      "needs_background": "light"
     },
     "output_type": "display_data"
    }
   ],
   "source": [
    "# the following 6 examples have a path from upper-leftmost to lower-rightmost\n",
    "# 3 x 3 grid\n",
    "grid1 = [[1,0,0],\n",
    "         [1,1,0],\n",
    "         [0,1,1]]\n",
    "# 5 x 5 grid\n",
    "grid2 = [[1,1,0,0,1],\n",
    "         [0,1,0,0,1],\n",
    "         [1,1,0,0,1],\n",
    "         [1,0,1,1,1],\n",
    "         [1,1,1,0,1]]\n",
    "# 10 x 10 grid\n",
    "grid3 = [[1,1,1,1,1,1,1,1,0,1],\n",
    "         [0,0,0,1,0,0,0,1,1,1],\n",
    "         [1,1,0,1,1,1,0,1,0,1],\n",
    "         [1,0,0,0,0,1,0,1,1,0],\n",
    "         [1,1,0,1,1,1,1,1,1,1],\n",
    "         [0,1,1,0,1,0,0,0,0,1],\n",
    "         [0,0,1,0,0,1,1,1,0,1],\n",
    "         [0,0,1,1,1,0,0,1,0,1]]\n",
    "# 15 x 15 grid\n",
    "grid4 = [[1,1,1,0,1,0,1,0,1,0,1,0,1,0,1],\n",
    "         [0,1,1,1,0,1,0,1,0,1,0,1,0,1,0],\n",
    "         [1,0,1,0,1,0,1,0,1,0,1,0,1,0,1],\n",
    "         [0,1,1,1,0,1,1,1,0,1,0,1,0,1,0],\n",
    "         [1,0,1,1,1,0,1,0,1,0,1,0,1,0,1],\n",
    "         [0,1,0,1,1,1,0,1,0,1,0,1,0,1,0],\n",
    "         [1,0,1,0,1,1,1,0,1,0,1,0,1,0,1],\n",
    "         [0,1,0,1,0,1,1,1,0,1,0,1,0,1,0],\n",
    "         [1,0,1,0,1,0,1,1,1,0,1,0,1,0,1],\n",
    "         [0,1,0,1,0,1,0,1,1,1,0,1,0,1,0],\n",
    "         [1,0,1,0,1,0,1,0,1,1,1,0,1,0,1],\n",
    "         [0,1,0,1,0,1,0,1,0,1,1,1,0,1,0],\n",
    "         [1,0,1,0,1,0,1,0,1,0,1,1,1,0,1],\n",
    "         [0,1,0,1,0,1,0,1,0,1,0,1,0,1,0],\n",
    "         [1,0,1,0,1,0,1,0,1,0,1,1,1,1,1]]\n",
    "# 17 x 17 grid\n",
    "grid5 = [[1,1,1,0,1,0,1,0,1,0,1,0,1,0,1,1,1],\n",
    "         [0,1,1,1,0,1,0,1,0,1,0,1,0,1,0,0,1],\n",
    "         [1,0,1,0,1,0,1,0,1,0,1,0,1,0,1,1,1],\n",
    "         [0,1,1,1,0,1,1,1,0,1,0,1,0,1,0,0,0],\n",
    "         [1,0,1,1,1,0,1,0,1,0,1,0,1,0,1,0,1],\n",
    "         [0,1,0,1,1,1,0,1,0,1,0,1,0,1,0,0,0],\n",
    "         [1,0,1,0,1,1,1,0,1,0,1,0,1,0,1,1,1],\n",
    "         [0,1,0,1,0,1,1,1,0,1,0,1,0,1,0,0,1],\n",
    "         [1,0,1,0,1,0,1,1,1,0,1,0,1,0,1,0,1],\n",
    "         [0,1,0,1,0,1,0,1,1,1,0,1,0,1,0,1,0],\n",
    "         [1,0,1,0,1,0,1,0,1,1,1,0,1,0,1,1,1],\n",
    "         [0,1,0,1,0,1,0,1,0,1,1,1,0,1,0,0,0],\n",
    "         [1,0,1,0,1,0,1,0,1,0,1,1,1,0,1,1,1],\n",
    "         [0,1,0,1,0,1,0,1,0,1,0,1,0,1,0,0,1],\n",
    "         [1,0,1,0,1,0,1,0,1,0,1,1,1,1,1,1,1]]\n",
    "# 20 x 20 grid\n",
    "grid6 = [[1,1,1,1,1,1,1,1,0,0,1,0,1,1,0,0,0,0,1,1],\n",
    "         [0,1,0,0,0,0,0,1,0,1,1,1,1,1,0,0,1,1,1,0],\n",
    "         [1,1,0,1,1,1,0,1,1,1,0,0,1,1,0,0,0,0,1,1],\n",
    "         [1,0,0,0,0,1,0,1,0,1,0,0,1,0,0,1,0,0,1,0],\n",
    "         [1,1,0,1,0,1,1,1,1,0,0,0,1,1,0,1,0,0,1,0],\n",
    "         [0,1,1,1,0,0,0,0,1,1,1,0,0,1,0,1,0,0,0,0],\n",
    "         [0,0,1,0,1,1,1,1,1,0,1,0,0,1,1,1,0,0,1,0],\n",
    "         [0,0,1,1,1,0,0,1,0,0,1,1,1,1,0,1,0,0,1,1],\n",
    "         [1,1,1,1,1,1,1,1,0,0,1,0,1,1,0,1,0,0,1,0],\n",
    "         [0,0,0,0,0,0,0,1,0,1,1,1,1,1,0,1,0,0,0,1],\n",
    "         [1,1,0,1,1,1,0,1,1,1,0,0,1,1,0,0,0,0,1,1],\n",
    "         [1,0,0,0,0,1,0,1,0,1,0,0,1,0,1,1,0,0,1,0],\n",
    "         [1,1,0,1,0,1,1,1,1,0,0,0,1,1,0,1,0,0,1,0],\n",
    "         [0,0,1,0,1,1,1,1,1,0,1,0,0,1,0,1,0,1,1,0],\n",
    "         [0,0,1,1,1,0,0,1,0,0,1,1,1,1,0,1,0,0,0,0],\n",
    "         [1,1,1,1,1,1,1,1,0,0,1,0,1,1,0,1,0,0,1,0],\n",
    "         [0,0,0,0,0,0,0,1,0,1,1,1,1,1,0,1,0,0,1,0],\n",
    "         [1,1,0,1,1,1,0,1,1,1,0,0,1,1,1,1,1,1,1,1],\n",
    "         [1,0,0,0,0,1,0,1,0,1,0,0,1,0,1,1,0,0,1,0],\n",
    "         [1,1,0,1,0,1,1,1,1,0,0,0,1,1,0,1,0,0,1,1]]\n",
    "\n",
    "bfs_data_T, dfs_data_T = [], []\n",
    "time_bfs(grid1);time_bfs(grid2);time_bfs(grid3)\n",
    "time_bfs(grid4);time_bfs(grid5);time_bfs(grid6)\n",
    "print()\n",
    "time_dfs(grid1);time_dfs(grid2);time_dfs(grid3)\n",
    "time_dfs(grid4);time_dfs(grid5);time_dfs(grid6)\n",
    "\n",
    "df1 = pd.DataFrame({'BFS': bfs_data_T,'DFS': dfs_data_T}, index=[3, 5, 10, 15, 17, 20])\n",
    "lines = df1.plot.line(title=\"Path-Exists\")"
   ]
  },
  {
   "cell_type": "markdown",
   "metadata": {},
   "source": [
    "#### Result analysis\n",
    "The graph tells that BFS gets slow much earlier than DFS if there exists a path. This is because DFS algorithm go further and further at first until it reaches an end, so it can reach the furthest point (the path end) earlier than BFS."
   ]
  },
  {
   "cell_type": "markdown",
   "metadata": {},
   "source": [
    "### Performance comparison when the path does NOT exist"
   ]
  },
  {
   "cell_type": "code",
   "execution_count": 5,
   "metadata": {},
   "outputs": [
    {
     "name": "stdout",
     "output_type": "stream",
     "text": [
      "bfs: 0.0000119209 (False)\n",
      "bfs: 0.0000228882 (False)\n",
      "bfs: 0.0000529289 (False)\n",
      "bfs: 0.0001490116 (False)\n",
      "bfs: 0.0001451969 (False)\n",
      "bfs: 0.0019221306 (False)\n",
      "\n",
      "dfs: 0.0000069141 (False)\n",
      "dfs: 0.0000169277 (False)\n",
      "dfs: 0.0000450611 (False)\n",
      "dfs: 0.0001568794 (False)\n",
      "dfs: 0.0001599789 (False)\n",
      "dfs: 0.0017979145 (False)\n"
     ]
    },
    {
     "data": {
      "image/png": "[encoded data removed]",
      "text/plain": [
       "<Figure size 432x288 with 1 Axes>"
      ]
     },
     "metadata": {
      "needs_background": "light"
     },
     "output_type": "display_data"
    }
   ],
   "source": [
    "# the following 6 examples does not have a path\n",
    "# 3 x 3 grid\n",
    "grid1 = [[1,0,0],\n",
    "         [1,0,0],\n",
    "         [0,1,1]]\n",
    "# 5 x 5 grid\n",
    "grid2 = [[1,1,0,0,1],\n",
    "         [0,1,0,0,1],\n",
    "         [1,1,0,0,1],\n",
    "         [1,0,1,1,1],\n",
    "         [1,0,1,0,1]]\n",
    "# 10 x 10 grid\n",
    "grid3 = [[1,1,1,1,1,1,1,1,0,1],\n",
    "         [0,0,0,1,0,0,0,1,1,1],\n",
    "         [1,1,0,1,1,1,0,1,0,1],\n",
    "         [1,0,0,0,0,1,0,0,1,0],\n",
    "         [1,1,0,1,1,0,1,1,1,1],\n",
    "         [0,1,1,0,1,0,0,0,0,1],\n",
    "         [0,0,1,0,0,1,1,1,0,1],\n",
    "         [0,0,1,1,1,0,0,1,0,1]]\n",
    "# 15 x 15 grid\n",
    "grid4 = [[1,1,1,0,1,0,1,0,1,0,1,0,1,0,1],\n",
    "         [0,1,1,1,0,1,0,1,0,1,0,1,0,1,0],\n",
    "         [1,0,1,0,1,0,1,0,1,0,1,0,1,0,1],\n",
    "         [0,1,1,1,0,1,1,1,0,1,0,1,0,1,0],\n",
    "         [1,0,1,1,1,0,1,0,1,0,1,0,1,0,1],\n",
    "         [0,1,0,1,1,1,0,1,0,1,0,1,0,1,0],\n",
    "         [1,0,1,0,1,1,1,0,1,0,1,0,1,0,1],\n",
    "         [0,1,0,1,0,1,1,1,0,1,0,1,0,1,0],\n",
    "         [1,0,1,0,1,0,1,1,1,0,1,0,1,0,1],\n",
    "         [0,1,0,1,0,1,0,1,1,1,0,1,0,1,0],\n",
    "         [1,0,1,0,1,0,1,0,1,1,1,0,1,0,1],\n",
    "         [0,1,0,1,0,1,0,1,0,1,1,1,0,1,0],\n",
    "         [1,0,1,0,1,0,1,0,1,0,1,0,1,0,1],\n",
    "         [0,1,0,1,0,1,0,1,0,1,0,1,0,1,0],\n",
    "         [1,0,1,0,1,0,1,0,1,0,1,1,1,1,1]]\n",
    "# 17 x 17 grid\n",
    "grid5 = [[1,1,1,0,1,0,1,0,1,0,1,0,1,0,1,1,1],\n",
    "         [0,1,1,1,0,1,0,1,0,1,0,1,0,1,0,0,1],\n",
    "         [1,0,1,0,1,0,1,0,1,0,1,0,1,0,1,1,1],\n",
    "         [0,1,1,1,0,1,1,1,0,1,0,1,0,1,0,0,0],\n",
    "         [1,0,1,1,1,0,1,0,1,0,1,0,1,0,1,0,1],\n",
    "         [0,1,0,1,1,1,0,1,0,1,0,1,0,1,0,0,0],\n",
    "         [1,0,1,0,1,1,1,0,1,0,1,0,1,0,1,1,1],\n",
    "         [0,1,0,1,0,1,1,1,0,1,0,1,0,1,0,0,1],\n",
    "         [1,0,1,0,1,0,1,1,1,0,1,0,1,0,1,0,1],\n",
    "         [0,1,0,1,0,1,0,1,1,1,0,1,0,1,0,1,0],\n",
    "         [1,0,1,0,1,0,1,0,1,1,1,0,1,0,1,1,1],\n",
    "         [0,1,0,1,0,1,0,1,0,1,1,1,0,1,0,0,0],\n",
    "         [1,0,1,0,1,0,1,0,1,0,1,0,1,0,1,1,1],\n",
    "         [0,1,0,1,0,1,0,1,0,1,0,1,0,1,0,0,1],\n",
    "         [1,0,1,0,1,0,1,0,1,0,1,1,1,1,1,1,1]]\n",
    "# 20 x 20 grid\n",
    "grid6 = [[1,1,1,1,1,1,1,1,0,0,1,0,1,1,0,0,0,0,1,1],\n",
    "         [0,1,0,0,0,0,0,1,0,1,1,1,1,1,0,0,1,1,1,0],\n",
    "         [1,1,0,1,1,1,0,1,1,1,0,0,1,1,0,0,0,0,1,1],\n",
    "         [1,0,0,0,0,1,0,1,0,1,0,0,1,0,0,1,0,0,1,0],\n",
    "         [1,1,0,1,0,1,1,1,1,0,0,0,1,1,0,1,0,0,1,0],\n",
    "         [0,1,1,1,0,0,0,0,1,1,1,0,0,1,0,1,0,0,0,0],\n",
    "         [0,0,1,0,1,1,1,1,1,0,1,0,0,1,1,1,0,0,1,0],\n",
    "         [0,0,1,1,1,0,0,1,0,0,1,1,1,1,0,1,0,0,1,1],\n",
    "         [1,1,1,1,1,1,1,1,0,0,1,0,1,1,0,1,0,0,1,0],\n",
    "         [0,0,0,0,0,0,0,1,0,1,1,1,1,1,0,1,0,0,0,1],\n",
    "         [1,1,0,1,1,1,0,1,1,1,0,0,1,1,0,0,0,0,1,1],\n",
    "         [1,0,0,0,0,1,0,1,0,1,0,0,1,0,1,1,0,0,1,0],\n",
    "         [1,1,0,1,0,1,1,1,1,0,0,0,1,1,0,1,0,0,1,0],\n",
    "         [0,0,1,0,1,1,1,1,1,0,1,0,0,1,0,1,0,1,1,0],\n",
    "         [0,0,1,1,1,0,0,1,0,0,1,1,1,1,0,1,0,0,0,0],\n",
    "         [1,1,1,1,1,1,1,1,0,0,1,0,1,1,0,1,0,0,1,0],\n",
    "         [0,0,0,0,0,0,0,1,0,1,1,1,1,1,0,1,0,0,1,0],\n",
    "         [1,1,0,1,1,1,0,1,1,1,0,0,1,1,1,1,1,1,0,1],\n",
    "         [1,0,0,0,0,1,0,1,0,1,0,0,1,0,1,1,0,0,1,0],\n",
    "         [1,1,0,1,0,1,1,1,1,0,0,0,1,1,0,1,0,0,1,1]]\n",
    "\n",
    "bfs_data_T, dfs_data_T = [], []\n",
    "time_bfs(grid1);time_bfs(grid2);time_bfs(grid3)\n",
    "time_bfs(grid4);time_bfs(grid5);time_bfs(grid6)\n",
    "print()\n",
    "time_dfs(grid1);time_dfs(grid2);time_dfs(grid3)\n",
    "time_dfs(grid4);time_dfs(grid5);time_dfs(grid6)\n",
    "\n",
    "df2 = pd.DataFrame({'BFS': bfs_data_T,'DFS': dfs_data_T}, index=[3, 5, 10, 15, 17, 20])\n",
    "lines = df2.plot.line(title=\"Path Does NOT Exist\")"
   ]
  },
  {
   "cell_type": "markdown",
   "metadata": {},
   "source": [
    "#### Result analysis\n",
    "The graph says that when it comes to the case where there does not exist a path between two ends, there is no very noticeable difference between BFS and DFS. This is because both algorithms have to visit all nodes in a graph to find a path while they don't have to if a path exists."
   ]
  },
  {
   "cell_type": "markdown",
   "metadata": {},
   "source": [
    "### Conclusion\n",
    "By the result of the above two analysis, we can conclude that DFS can be better than BFS at a certain situation(we conduct this experiment under several restrictions: start & end points are fixed, graph data is not fully randomized, etc) if we just want to find if there exists a path. We can expand this topic more like finding a shortest path or detecting a cycle."
   ]
  },
  {
   "cell_type": "code",
   "execution_count": null,
   "metadata": {},
   "outputs": [],
   "source": []
  }
 ],
 "metadata": {
  "kernelspec": {
   "display_name": "Python 3",
   "language": "python",
   "name": "python3"
  },
  "language_info": {
   "codemirror_mode": {
    "name": "ipython",
    "version": 3
   },
   "file_extension": ".py",
   "mimetype": "text/x-python",
   "name": "python",
   "nbconvert_exporter": "python",
   "pygments_lexer": "ipython3",
   "version": "3.7.1"
  }
 },
 "nbformat": 4,
 "nbformat_minor": 2
}
