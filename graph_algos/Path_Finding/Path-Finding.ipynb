{
 "cells": [
  {
   "cell_type": "markdown",
   "metadata": {},
   "source": [
    "# Path-Finding Algorithms Comparison\n",
    "### Author: Tomoya Tokunga(mailto: ttokunag@ucsd.edu)\n",
    "This note compare path finding algorithms used in graph data structure, Breadth-First & Depth-First Search. First, it introduces how the algorithms work, and then compare them from runtime perspective. We consider 2 cases: when the path exists, and does not.<br>\n",
    "(*For the sake of simplicity, we only consider a case of finding a path between upper-leftmost and lower-rightmost elements in a matrix)"
   ]
  },
  {
   "cell_type": "markdown",
   "metadata": {},
   "source": [
    "### DFS Traversal\n",
    "$O(N)$ time | $O(N)$ space (where $N$ is the # of nodes in a graph)"
   ]
  },
  {
   "cell_type": "code",
   "execution_count": 1,
   "metadata": {},
   "outputs": [],
   "source": [
    "# returns True if the path exists\n",
    "def path_find_dfs(grid):\n",
    "    visited = []\n",
    "    stack = [(0,0)]\n",
    "    while stack:\n",
    "        node = stack.pop()\n",
    "        if node not in visited:\n",
    "            if node[0]-1 >= 0 and grid[node[0]-1][node[1]] == 1:\n",
    "                stack.append((node[0]-1, node[1]))\n",
    "            if node[0]+1 < len(grid) and grid[node[0]+1][node[1]] == 1:\n",
    "                stack.append((node[0]+1, node[1]))\n",
    "            if node[1]-1 >= 0 and grid[node[0]][node[1]-1] == 1:\n",
    "                stack.append((node[0], node[1]-1))\n",
    "            if node[1]+1 < len(grid[0]) and grid[node[0]][node[1]+1] == 1:\n",
    "                stack.append((node[0], node[1]+1))\n",
    "            # destination coordinate\n",
    "            if (len(grid)-1, len(grid[0])-1) in stack:\n",
    "                return True\n",
    "        visited.append(node)\n",
    "    return False"
   ]
  },
  {
   "cell_type": "markdown",
   "metadata": {},
   "source": [
    "### BFS Traversal\n",
    "$O(N)$ time | $O(N)$ space (where $N$ is the # of nodes in a graph)"
   ]
  },
  {
   "cell_type": "code",
   "execution_count": 2,
   "metadata": {},
   "outputs": [],
   "source": [
    "# returns True if the path exists\n",
    "def path_find_bfs(grid):\n",
    "    visited = []\n",
    "    queue = [(0,0)]\n",
    "    while queue:\n",
    "        node = queue.pop(0)\n",
    "        if node not in visited:\n",
    "            if node[0]-1 >= 0 and grid[node[0]-1][node[1]] == 1:\n",
    "                queue.append((node[0]-1, node[1]))\n",
    "            if node[0]+1 < len(grid) and grid[node[0]+1][node[1]] == 1:\n",
    "                queue.append((node[0]+1, node[1]))\n",
    "            if node[1]-1 >= 0 and grid[node[0]][node[1]-1] == 1:\n",
    "                queue.append((node[0], node[1]-1))\n",
    "            if node[1]+1 < len(grid[0]) and grid[node[0]][node[1]+1] == 1:\n",
    "                queue.append((node[0], node[1]+1))\n",
    "            # destination coordinate\n",
    "            if (len(grid)-1, len(grid[0])-1) in queue:\n",
    "                return True\n",
    "        visited.append(node)\n",
    "    return False"
   ]
  },
  {
   "cell_type": "markdown",
   "metadata": {},
   "source": [
    "## Compare the performances\n",
    "Now we compare 2 functions performance with timing module, `time` and data-plotting module `Pandas` and `pyplot`"
   ]
  },
  {
   "cell_type": "code",
   "execution_count": 3,
   "metadata": {},
   "outputs": [],
   "source": [
    "# it times runtime and is helpful to compare performance\n",
    "import time\n",
    "\n",
    "# a dictionary to call each algorithm\n",
    "algos = {\n",
    "        \"bfs\": path_find_bfs,\n",
    "        \"dfs\": path_find_dfs\n",
    "        }\n",
    "\n",
    "# a method to print how long a method takes to sort the given array\n",
    "def timing(grid, algo_name, history):\n",
    "    start = time.time()\n",
    "    algos[algo_name](grid)\n",
    "    # stores the time in a dataset\n",
    "    history.append(time.time() - start)"
   ]
  },
  {
   "cell_type": "markdown",
   "metadata": {},
   "source": [
    "### Performance comparison when the path exists\n",
    "The test case matrices follow the following conditions\n",
    "- There is only one correct path to reach the goal\n",
    "- matrices contains at least one cycle if the size is >= 5"
   ]
  },
  {
   "cell_type": "code",
   "execution_count": 4,
   "metadata": {},
   "outputs": [],
   "source": [
    "# the following 8 examples have a path from upper-leftmost to lower-rightmost\n",
    "# 3 x 3 grid\n",
    "grid3 = [[1,0,0],\n",
    "         [1,1,0],\n",
    "         [0,1,1]]\n",
    "\n",
    "# 5 x 5 grid\n",
    "grid5 = [[1,1,1,1,1],\n",
    "         [1,0,1,0,1],\n",
    "         [1,0,1,1,1],\n",
    "         [1,1,0,0,0],\n",
    "         [0,1,1,1,1]]\n",
    "\n",
    "# 7 x 7 grid\n",
    "grid7 = [[1,1,1,1,0,1,1],\n",
    "         [1,1,0,1,1,1,1],\n",
    "         [1,0,1,0,1,0,1],\n",
    "         [1,0,0,1,1,0,1],\n",
    "         [1,1,1,0,1,1,1],\n",
    "         [1,0,0,1,0,1,0],\n",
    "         [1,1,1,0,1,1,1]]\n",
    "\n",
    "# 9 x 9 grid\n",
    "grid9 = [[1,1,1,1,1,1,1,1,1],\n",
    "         [0,1,0,0,0,1,0,0,1],\n",
    "         [0,1,1,0,1,1,1,1,1],\n",
    "         [1,1,0,1,0,0,0,0,1],\n",
    "         [1,0,1,1,1,1,0,0,1],\n",
    "         [1,0,0,0,0,1,0,1,1],\n",
    "         [1,0,1,1,0,1,1,0,1],\n",
    "         [1,0,1,0,0,1,0,1,0],\n",
    "         [1,1,1,1,1,1,1,1,1]]\n",
    "\n",
    "# 11 x 11 grid\n",
    "grid11 = [[1,1,1,1,1,1,1,1,1,1,0],\n",
    "          [0,1,0,0,0,1,0,1,0,0,1],\n",
    "          [1,1,1,1,1,1,1,1,0,1,1],\n",
    "          [1,0,0,1,0,1,0,1,0,1,1],\n",
    "          [1,0,0,1,1,0,1,1,0,0,1],\n",
    "          [1,1,0,1,0,1,0,1,0,0,1],\n",
    "          [1,1,1,1,0,0,1,0,1,1,1],\n",
    "          [1,0,1,1,0,0,0,1,1,0,1],\n",
    "          [1,0,1,0,1,1,1,0,1,0,1],\n",
    "          [1,0,1,0,1,0,1,0,1,0,1],\n",
    "          [1,0,1,1,1,0,1,1,1,1,1]]\n",
    "\n",
    "grid13 = [[1,1,1,1,1,1,1,1,1,1,1,1,1],\n",
    "          [1,0,0,0,1,0,1,0,1,0,1,0,1],\n",
    "          [1,1,1,1,1,0,1,1,1,0,1,0,1],\n",
    "          [1,0,1,0,0,1,0,1,0,1,0,0,1],\n",
    "          [1,0,1,1,0,1,1,1,1,1,1,1,1],\n",
    "          [1,1,0,1,0,1,0,0,0,0,0,0,1],\n",
    "          [1,0,0,1,0,1,1,1,1,1,0,1,1],\n",
    "          [1,0,1,1,1,0,0,0,0,1,0,0,1],\n",
    "          [1,0,1,0,0,1,0,0,0,1,0,1,1],\n",
    "          [1,0,1,1,1,1,1,1,0,1,0,0,1],\n",
    "          [1,0,1,0,0,1,0,1,1,1,1,0,1],\n",
    "          [1,0,1,0,1,0,1,0,0,0,1,0,1],\n",
    "          [1,1,1,1,1,1,1,1,1,1,1,0,1]]\n",
    "\n",
    "# 15 x 15 grid\n",
    "grid15 = [[1,1,1,1,1,1,1,1,1,1,1,1,1,1,1],\n",
    "          [1,0,0,0,0,0,0,1,1,0,0,1,0,0,1],\n",
    "          [1,0,1,1,1,0,1,0,0,1,0,1,0,0,1],\n",
    "          [1,0,1,0,1,0,1,1,1,1,0,1,1,1,1],\n",
    "          [1,0,1,0,1,1,0,1,0,1,0,1,0,0,1],\n",
    "          [1,0,1,1,0,1,0,1,0,1,0,1,0,0,1],\n",
    "          [1,0,0,1,0,1,1,1,0,1,0,0,1,1,1],\n",
    "          [1,1,1,1,0,0,0,0,1,1,0,1,1,0,1],\n",
    "          [1,0,0,0,1,0,1,1,1,0,0,0,1,1,1],\n",
    "          [1,1,1,0,1,1,1,0,1,1,1,1,0,0,1],\n",
    "          [1,0,1,0,1,0,0,0,0,0,0,1,0,0,0],\n",
    "          [1,0,1,0,1,0,1,1,1,0,1,1,1,0,1],\n",
    "          [1,1,1,0,1,1,0,0,1,0,1,0,1,0,1],\n",
    "          [0,0,0,0,1,0,0,0,1,0,0,0,1,0,1],\n",
    "          [1,1,1,1,1,1,1,1,1,0,1,1,1,1,1]]\n",
    "\n",
    "# 17 x 17 grid\n",
    "grid17 = [[1,1,1,1,1,1,1,1,1,1,1,1,1,1,1,1,1],\n",
    "          [1,0,0,0,0,0,0,0,0,0,1,0,0,0,0,0,1],\n",
    "          [1,1,1,1,1,0,1,1,1,0,1,0,0,0,1,1,1],\n",
    "          [1,0,0,0,1,0,1,0,1,0,1,0,0,0,0,0,1],\n",
    "          [1,1,1,0,1,0,1,1,1,0,1,0,0,0,1,1,1],\n",
    "          [1,0,0,1,1,0,1,0,0,0,1,0,1,1,1,0,1],\n",
    "          [1,1,1,0,1,1,1,1,1,0,1,0,1,0,1,1,1],\n",
    "          [1,0,0,0,1,0,0,0,1,0,1,1,1,0,1,0,1],\n",
    "          [1,1,1,0,1,0,1,1,1,0,0,0,0,0,1,1,1],\n",
    "          [1,0,0,0,0,0,1,0,0,1,1,1,0,0,0,0,1],\n",
    "          [1,1,1,0,0,1,1,0,0,1,0,1,0,0,1,1,1],\n",
    "          [1,0,0,0,1,1,0,0,0,1,0,1,1,0,1,0,1],\n",
    "          [1,1,1,0,1,0,0,1,1,1,0,0,1,0,1,1,1],\n",
    "          [1,0,0,1,1,0,0,1,0,0,1,1,1,0,0,0,0],\n",
    "          [1,1,1,0,1,1,1,1,0,0,1,0,0,1,1,1,1],\n",
    "          [0,0,1,0,0,0,0,0,1,0,1,0,0,1,0,0,1],\n",
    "          [1,1,1,1,1,1,1,1,1,1,1,1,1,1,1,0,1],]\n",
    "\n",
    "grid_data = [grid3, grid5, grid7, grid9,\n",
    "             grid11, grid13, grid15, grid17]"
   ]
  },
  {
   "cell_type": "code",
   "execution_count": 5,
   "metadata": {},
   "outputs": [
    {
     "data": {
      "text/html": [
       "<div>\n",
       "<style scoped>\n",
       "    .dataframe tbody tr th:only-of-type {\n",
       "        vertical-align: middle;\n",
       "    }\n",
       "\n",
       "    .dataframe tbody tr th {\n",
       "        vertical-align: top;\n",
       "    }\n",
       "\n",
       "    .dataframe thead th {\n",
       "        text-align: right;\n",
       "    }\n",
       "</style>\n",
       "<table border=\"1\" class=\"dataframe\">\n",
       "  <thead>\n",
       "    <tr style=\"text-align: right;\">\n",
       "      <th></th>\n",
       "      <th>BFS</th>\n",
       "      <th>DFS</th>\n",
       "    </tr>\n",
       "  </thead>\n",
       "  <tbody>\n",
       "    <tr>\n",
       "      <th>3</th>\n",
       "      <td>0.000014</td>\n",
       "      <td>0.000008</td>\n",
       "    </tr>\n",
       "    <tr>\n",
       "      <th>5</th>\n",
       "      <td>0.000041</td>\n",
       "      <td>0.000037</td>\n",
       "    </tr>\n",
       "    <tr>\n",
       "      <th>7</th>\n",
       "      <td>0.000093</td>\n",
       "      <td>0.000036</td>\n",
       "    </tr>\n",
       "    <tr>\n",
       "      <th>9</th>\n",
       "      <td>0.000141</td>\n",
       "      <td>0.000093</td>\n",
       "    </tr>\n",
       "    <tr>\n",
       "      <th>11</th>\n",
       "      <td>0.000302</td>\n",
       "      <td>0.000108</td>\n",
       "    </tr>\n",
       "    <tr>\n",
       "      <th>13</th>\n",
       "      <td>0.000649</td>\n",
       "      <td>0.000511</td>\n",
       "    </tr>\n",
       "    <tr>\n",
       "      <th>15</th>\n",
       "      <td>0.000724</td>\n",
       "      <td>0.000539</td>\n",
       "    </tr>\n",
       "    <tr>\n",
       "      <th>17</th>\n",
       "      <td>0.001270</td>\n",
       "      <td>0.000554</td>\n",
       "    </tr>\n",
       "  </tbody>\n",
       "</table>\n",
       "</div>"
      ],
      "text/plain": [
       "         BFS       DFS\n",
       "3   0.000014  0.000008\n",
       "5   0.000041  0.000037\n",
       "7   0.000093  0.000036\n",
       "9   0.000141  0.000093\n",
       "11  0.000302  0.000108\n",
       "13  0.000649  0.000511\n",
       "15  0.000724  0.000539\n",
       "17  0.001270  0.000554"
      ]
     },
     "execution_count": 5,
     "metadata": {},
     "output_type": "execute_result"
    }
   ],
   "source": [
    "import pandas as pd\n",
    "\n",
    "bfs_data_T, dfs_data_T = [], []\n",
    "for grid in grid_data:\n",
    "    timing(grid, 'bfs', bfs_data_T)\n",
    "for grid in grid_data:\n",
    "    timing(grid, 'dfs', dfs_data_T)\n",
    "\n",
    "# make the dataframe from the resultant\n",
    "result = pd.DataFrame({'BFS': bfs_data_T,\n",
    "                    'DFS': dfs_data_T}, index=[3, 5, 7, 9, 11, 13, 15, 17])\n",
    "result"
   ]
  },
  {
   "cell_type": "code",
   "execution_count": 7,
   "metadata": {},
   "outputs": [
    {
     "data": {
      "text/plain": [
       "<Figure size 432x288 with 0 Axes>"
      ]
     },
     "metadata": {},
     "output_type": "display_data"
    },
    {
     "data": {
      "image/png": "[encoded data removed]",
      "text/plain": [
       "<Figure size 432x288 with 1 Axes>"
      ]
     },
     "metadata": {
      "needs_background": "light"
     },
     "output_type": "display_data"
    }
   ],
   "source": [
    "import matplotlib.pyplot as plt\n",
    "\n",
    "df = result.cumsum()\n",
    "fig = plt.figure()\n",
    "df.plot()\n",
    "plt.savefig('runtime_analysisT.png', dpi=130)"
   ]
  },
  {
   "cell_type": "markdown",
   "metadata": {},
   "source": [
    "#### Result analysis\n",
    "The graph tells that BFS gets slow much earlier than DFS if there exists a path. This is because DFS algorithm go further and further at first until it reaches an end, so it can reach the furthest point (the path end) earlier than BFS."
   ]
  },
  {
   "cell_type": "markdown",
   "metadata": {},
   "source": [
    "### Performance comparison when the path does NOT exist"
   ]
  },
  {
   "cell_type": "code",
   "execution_count": 8,
   "metadata": {},
   "outputs": [],
   "source": [
    "# the following 8 examples does NOT have a path\n",
    "# 3 x 3 grid\n",
    "grid3 = [[1,1,1],\n",
    "         [1,0,0],\n",
    "         [1,0,1]]\n",
    "\n",
    "# 5 x 5 grid\n",
    "grid5 = [[1,1,1,1,1],\n",
    "         [1,0,1,0,1],\n",
    "         [1,0,1,1,1],\n",
    "         [1,1,0,0,0],\n",
    "         [0,1,1,0,1]]\n",
    "\n",
    "# 7 x 7 grid\n",
    "grid7 = [[1,1,1,1,0,1,1],\n",
    "         [1,1,0,1,1,1,1],\n",
    "         [1,0,1,0,1,0,1],\n",
    "         [1,0,0,1,1,0,1],\n",
    "         [1,1,1,0,1,1,1],\n",
    "         [1,0,0,1,0,1,0],\n",
    "         [1,1,1,0,1,0,1]]\n",
    "\n",
    "# 9 x 9 grid\n",
    "grid9 = [[1,1,1,1,1,1,1,1,1],\n",
    "         [0,1,0,0,0,1,0,0,1],\n",
    "         [0,1,1,0,1,1,1,1,1],\n",
    "         [1,1,0,1,0,0,0,0,1],\n",
    "         [1,0,1,1,1,1,0,0,1],\n",
    "         [1,0,0,0,0,1,0,1,1],\n",
    "         [1,0,1,1,0,1,1,0,1],\n",
    "         [1,0,1,0,0,1,1,0,0],\n",
    "         [1,1,1,1,1,1,1,0,1]]\n",
    "\n",
    "# 11 x 11 grid\n",
    "grid11 = [[1,1,1,1,1,1,1,1,1,1,1],\n",
    "          [0,1,0,0,0,1,0,1,0,0,1],\n",
    "          [1,1,1,1,1,1,1,1,0,1,1],\n",
    "          [1,0,0,1,0,1,0,1,0,1,1],\n",
    "          [1,0,0,1,1,0,1,1,0,0,1],\n",
    "          [1,1,0,1,0,1,0,1,0,0,1],\n",
    "          [1,1,1,1,0,0,1,0,1,1,1],\n",
    "          [1,0,1,1,0,0,0,1,1,0,1],\n",
    "          [1,0,1,0,1,1,1,0,1,0,1],\n",
    "          [1,0,1,0,1,0,1,0,1,0,0],\n",
    "          [1,0,1,1,1,0,1,1,1,0,1]]\n",
    "\n",
    "grid13 = [[1,1,1,1,1,1,1,1,1,1,1,1,1],\n",
    "          [1,0,0,0,1,0,1,0,1,0,1,0,1],\n",
    "          [1,1,1,1,1,0,1,1,1,0,1,0,1],\n",
    "          [1,0,1,0,0,1,0,1,0,1,0,0,1],\n",
    "          [1,0,1,1,0,1,1,1,1,1,1,1,1],\n",
    "          [1,1,0,1,0,1,0,0,0,0,0,0,1],\n",
    "          [1,0,0,1,0,1,1,1,1,1,0,1,1],\n",
    "          [1,0,1,1,1,0,0,0,0,1,0,0,1],\n",
    "          [1,0,1,0,0,1,0,0,0,1,0,1,1],\n",
    "          [1,0,1,1,1,1,1,1,0,1,0,0,1],\n",
    "          [1,0,1,0,0,1,0,1,1,1,1,0,1],\n",
    "          [1,0,1,0,1,0,1,0,0,0,1,0,0],\n",
    "          [1,1,1,1,1,1,1,1,1,1,1,0,1]]\n",
    "\n",
    "# 15 x 15 grid\n",
    "grid15 = [[1,1,1,1,1,1,1,1,1,1,1,1,1,1,1],\n",
    "          [1,0,0,0,0,0,0,1,1,0,0,1,0,0,1],\n",
    "          [1,0,1,1,1,0,1,0,0,1,0,1,0,0,1],\n",
    "          [1,0,1,0,1,0,1,1,1,1,0,1,1,1,1],\n",
    "          [1,0,1,0,1,1,0,1,0,1,0,1,0,0,1],\n",
    "          [1,0,1,1,0,1,0,1,0,1,0,1,0,0,1],\n",
    "          [1,0,0,1,0,1,1,1,0,1,0,0,1,1,1],\n",
    "          [1,1,1,1,0,0,0,0,1,1,0,1,1,0,1],\n",
    "          [1,0,0,0,1,0,1,1,1,0,0,0,1,1,1],\n",
    "          [1,1,1,0,1,1,1,0,1,1,1,1,0,0,1],\n",
    "          [1,0,1,0,1,0,0,0,0,0,0,1,0,0,1],\n",
    "          [1,0,1,0,1,0,1,1,1,0,1,1,1,0,1],\n",
    "          [1,1,1,0,1,1,0,0,1,0,1,0,1,0,1],\n",
    "          [0,0,0,0,1,0,0,0,1,0,0,0,1,0,0],\n",
    "          [1,1,1,1,1,1,1,1,1,0,1,1,1,0,1]]\n",
    "\n",
    "# 17 x 17 grid\n",
    "grid17 = [[1,1,1,1,1,1,1,1,1,1,1,1,1,1,1,1,1],\n",
    "          [1,0,0,0,0,0,0,0,0,0,1,0,0,0,0,0,1],\n",
    "          [1,1,1,1,1,0,1,1,1,0,1,0,0,0,1,1,1],\n",
    "          [1,0,0,0,1,0,1,0,1,0,1,0,0,0,0,0,1],\n",
    "          [1,1,1,0,1,0,1,1,1,0,1,0,0,0,1,1,1],\n",
    "          [1,0,0,1,1,0,1,0,0,0,1,0,1,1,1,0,1],\n",
    "          [1,1,1,0,1,1,1,1,1,0,1,0,1,0,1,1,1],\n",
    "          [1,0,0,0,1,0,0,0,1,0,1,1,1,0,1,0,1],\n",
    "          [1,1,1,0,1,0,1,1,1,0,0,0,0,0,1,1,1],\n",
    "          [1,0,0,0,0,0,1,0,0,1,1,1,0,0,0,0,1],\n",
    "          [1,1,1,0,0,1,1,0,0,1,0,1,0,0,1,1,1],\n",
    "          [1,0,0,0,1,1,0,0,0,1,0,1,1,0,1,0,1],\n",
    "          [1,1,1,0,1,0,0,1,1,1,0,0,1,0,1,1,1],\n",
    "          [1,0,0,1,1,0,0,1,0,0,1,1,1,0,0,0,0],\n",
    "          [1,1,1,0,1,1,1,1,0,0,1,0,0,1,1,1,1],\n",
    "          [0,0,1,0,0,0,0,0,1,0,1,0,0,1,0,0,0],\n",
    "          [1,1,1,1,1,1,1,1,1,1,1,1,1,1,1,0,1]]\n",
    "\n",
    "grid_data = [grid3, grid5, grid7, grid9,\n",
    "             grid11, grid13, grid15, grid17]"
   ]
  },
  {
   "cell_type": "code",
   "execution_count": 9,
   "metadata": {},
   "outputs": [
    {
     "data": {
      "text/html": [
       "<div>\n",
       "<style scoped>\n",
       "    .dataframe tbody tr th:only-of-type {\n",
       "        vertical-align: middle;\n",
       "    }\n",
       "\n",
       "    .dataframe tbody tr th {\n",
       "        vertical-align: top;\n",
       "    }\n",
       "\n",
       "    .dataframe thead th {\n",
       "        text-align: right;\n",
       "    }\n",
       "</style>\n",
       "<table border=\"1\" class=\"dataframe\">\n",
       "  <thead>\n",
       "    <tr style=\"text-align: right;\">\n",
       "      <th></th>\n",
       "      <th>BFS</th>\n",
       "      <th>DFS</th>\n",
       "    </tr>\n",
       "  </thead>\n",
       "  <tbody>\n",
       "    <tr>\n",
       "      <th>3</th>\n",
       "      <td>0.000021</td>\n",
       "      <td>0.000019</td>\n",
       "    </tr>\n",
       "    <tr>\n",
       "      <th>5</th>\n",
       "      <td>0.000052</td>\n",
       "      <td>0.000049</td>\n",
       "    </tr>\n",
       "    <tr>\n",
       "      <th>7</th>\n",
       "      <td>0.000122</td>\n",
       "      <td>0.000111</td>\n",
       "    </tr>\n",
       "    <tr>\n",
       "      <th>9</th>\n",
       "      <td>0.000254</td>\n",
       "      <td>0.000272</td>\n",
       "    </tr>\n",
       "    <tr>\n",
       "      <th>11</th>\n",
       "      <td>0.000498</td>\n",
       "      <td>0.000492</td>\n",
       "    </tr>\n",
       "    <tr>\n",
       "      <th>13</th>\n",
       "      <td>0.000869</td>\n",
       "      <td>0.000730</td>\n",
       "    </tr>\n",
       "    <tr>\n",
       "      <th>15</th>\n",
       "      <td>0.001225</td>\n",
       "      <td>0.001104</td>\n",
       "    </tr>\n",
       "    <tr>\n",
       "      <th>17</th>\n",
       "      <td>0.001993</td>\n",
       "      <td>0.001765</td>\n",
       "    </tr>\n",
       "  </tbody>\n",
       "</table>\n",
       "</div>"
      ],
      "text/plain": [
       "         BFS       DFS\n",
       "3   0.000021  0.000019\n",
       "5   0.000052  0.000049\n",
       "7   0.000122  0.000111\n",
       "9   0.000254  0.000272\n",
       "11  0.000498  0.000492\n",
       "13  0.000869  0.000730\n",
       "15  0.001225  0.001104\n",
       "17  0.001993  0.001765"
      ]
     },
     "execution_count": 9,
     "metadata": {},
     "output_type": "execute_result"
    }
   ],
   "source": [
    "bfs_data_F, dfs_data_F = [], []\n",
    "for grid in grid_data:\n",
    "    timing(grid, 'bfs', bfs_data_F)\n",
    "for grid in grid_data:\n",
    "    timing(grid, 'dfs', dfs_data_F)\n",
    "\n",
    "# make the dataframe from the resultant\n",
    "result = pd.DataFrame({'BFS': bfs_data_F,\n",
    "                       'DFS': dfs_data_F}, index=[3, 5, 7, 9, 11, 13, 15, 17])\n",
    "result"
   ]
  },
  {
   "cell_type": "code",
   "execution_count": 10,
   "metadata": {},
   "outputs": [
    {
     "data": {
      "text/plain": [
       "<Figure size 432x288 with 0 Axes>"
      ]
     },
     "metadata": {},
     "output_type": "display_data"
    },
    {
     "data": {
      "image/png": "[encoded data removed]",
      "text/plain": [
       "<Figure size 432x288 with 1 Axes>"
      ]
     },
     "metadata": {
      "needs_background": "light"
     },
     "output_type": "display_data"
    }
   ],
   "source": [
    "df = result.cumsum()\n",
    "fig = plt.figure()\n",
    "df.plot()\n",
    "plt.savefig('runtime_analysisF.png', dpi=130)"
   ]
  },
  {
   "cell_type": "markdown",
   "metadata": {},
   "source": [
    "#### Result analysis\n",
    "The graph says that when it comes to the case where there does not exist a path between two ends, there is no very noticeable difference between BFS and DFS. This is because both algorithms have to visit all nodes in a graph to find a path while they don't have to if a path exists."
   ]
  },
  {
   "cell_type": "markdown",
   "metadata": {},
   "source": [
    "### Conclusion\n",
    "By the result of the above two analysis, we can conclude that DFS can be better than BFS at a certain situation(we conduct this experiment under several restrictions: start & end points are fixed, graph data is not fully randomized, etc) if we just want to find if there exists a path. We can expand this topic more like finding a shortest path or detecting a cycle."
   ]
  },
  {
   "cell_type": "code",
   "execution_count": null,
   "metadata": {},
   "outputs": [],
   "source": []
  }
 ],
 "metadata": {
  "kernelspec": {
   "display_name": "Python 3",
   "language": "python",
   "name": "python3"
  },
  "language_info": {
   "codemirror_mode": {
    "name": "ipython",
    "version": 3
   },
   "file_extension": ".py",
   "mimetype": "text/x-python",
   "name": "python",
   "nbconvert_exporter": "python",
   "pygments_lexer": "ipython3",
   "version": "3.7.1"
  }
 },
 "nbformat": 4,
 "nbformat_minor": 2
}
