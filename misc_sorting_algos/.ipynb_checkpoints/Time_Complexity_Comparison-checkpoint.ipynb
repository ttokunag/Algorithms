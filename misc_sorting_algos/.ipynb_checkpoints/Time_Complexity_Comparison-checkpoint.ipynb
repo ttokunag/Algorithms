{
 "cells": [
  {
   "cell_type": "markdown",
   "metadata": {},
   "source": [
    "# Time Complexity Comparison\n",
    "### Author: Tomoya Tokunaga (matlto: ttokunag@ucsd.edu)\n",
    "In this notebook, I compare time complexity of well-know sorting algorithms using `time` python standard library. Algorithms which are going to be compared here are the followings:\n",
    "- Insertion sort\n",
    "- Merge Sort\n",
    "- Quick Sort\n",
    "- Heap Sort"
   ]
  },
  {
   "cell_type": "markdown",
   "metadata": {},
   "source": [
    "## How we compare time complexity\n",
    "For those who are not familiar with python, I'll introduce a basic of timing in python.\n",
    "1. `start = time.time()`\n",
    "2. `execute a sorting method we want to time`\n",
    "3. `print(time.time() - start)`\n",
    "<br><br>The first line store numerical time data into a variable named `start`. `.time()` method in `time` class returns the time at the time method called.<br>\n",
    "The second line calls a sorting algorithm. Then finally, it prints out the time difference of the time the algorithm was called and the time right after the method is done."
   ]
  },
  {
   "cell_type": "markdown",
   "metadata": {},
   "source": [
    "## Algorithm Implementation"
   ]
  },
  {
   "cell_type": "markdown",
   "metadata": {},
   "source": [
    "### Insertion sort\n",
    "Time | $O(N^2)$: <br>\n",
    "N computations for the outer loop to traverse all elements to see if they are sorted. Another maximum N computations for the loop to look backward to find the appropriate place an unsorted element to be inserted<br><br>\n",
    "Space | $O(1)$<br>\n",
    "This algorithm uses constant space for variables beacause this is **in-place** algorithm"
   ]
  },
  {
   "cell_type": "code",
   "execution_count": 61,
   "metadata": {},
   "outputs": [],
   "source": [
    "# @param arr: an array-like object to be sorted\n",
    "def insertion_sort(arr):\n",
    "    # traverses all elements to see if there are unsorted elements\n",
    "    for i in range(1, len(arr)):\n",
    "        target = arr[i]\n",
    "        insert_idx = i - 1\n",
    "        while insert_idx >= 0 and target < arr[insert_idx]:\n",
    "            # moves an element to right by 1 for the element\n",
    "            # to be inserted\n",
    "            arr[insert_idx + 1] = arr[insert_idx]\n",
    "            insert_idx -= 1\n",
    "        arr[insert_idx + 1] = target"
   ]
  },
  {
   "cell_type": "code",
   "execution_count": 62,
   "metadata": {},
   "outputs": [
    {
     "data": {
      "text/plain": [
       "[3, 5, 6, 45, 46, 57, 65, 68, 97, 123, 134, 562, 562, 568, 624, 641]"
      ]
     },
     "execution_count": 62,
     "metadata": {},
     "output_type": "execute_result"
    }
   ],
   "source": [
    "test = [123,641,46,134,624,57,568,5,68,65,97,3,562,562,45,6]\n",
    "insertion_sort(test)\n",
    "test"
   ]
  },
  {
   "cell_type": "markdown",
   "metadata": {},
   "source": [
    "### Merge sort\n",
    "Time | $O(Nlog(N))$: <br>\n",
    "At most N computations for comparing two elements in a left half array and a right half array. log(N) computations for the dividing process of the given array<br><br>\n",
    "Space | $O(N)$<br>\n",
    "This algorithm needs to a sorted array for the next recursive calls. Therefore, it takes up O(N) memory"
   ]
  },
  {
   "cell_type": "code",
   "execution_count": 63,
   "metadata": {},
   "outputs": [],
   "source": [
    "def merge_sort(arr):\n",
    "    # an array length of <= 1 is already sorted\n",
    "    if len(arr) <= 1:\n",
    "        return arr\n",
    "    # set a pivot to divide the given array into two\n",
    "    pivot = len(arr)//2\n",
    "    left_arr = merge_sort(arr[:pivot])\n",
    "    right_arr = merge_sort(arr[pivot:])\n",
    "    \n",
    "    '''\n",
    "    * the following is a helper method to recursively sort subarrayslef\n",
    "    * @param left_array: the left divided array\n",
    "    * @param right_array: the right divided array\n",
    "    '''\n",
    "    def merge(left_arr, right_arr):\n",
    "        left_cur = right_cur = 0\n",
    "        res = []\n",
    "        # place a smaller element of two arrays to a smaller index\n",
    "        while left_cur < len(left_arr) and right_cur < len(right_arr):\n",
    "            if left_arr[left_cur] < right_arr[right_cur]:\n",
    "                res.append(left_arr[left_cur])\n",
    "                left_cur += 1\n",
    "            else:\n",
    "                res.append(right_arr[right_cur])\n",
    "                right_cur += 1\n",
    "        # once one array gets empty, append the other\n",
    "        res.extend(left_arr[left_cur:])\n",
    "        res.extend(right_arr[right_cur:])\n",
    "        return res\n",
    "    \n",
    "    return merge(left_arr, right_arr)"
   ]
  },
  {
   "cell_type": "code",
   "execution_count": 64,
   "metadata": {},
   "outputs": [
    {
     "data": {
      "text/plain": [
       "[3, 5, 6, 45, 46, 57, 65, 68, 97, 123, 134, 562, 562, 568, 624, 641]"
      ]
     },
     "execution_count": 64,
     "metadata": {},
     "output_type": "execute_result"
    }
   ],
   "source": [
    "test = [123,641,46,134,624,57,568,5,68,65,97,3,562,562,45,6]\n",
    "merge_sort(test)"
   ]
  },
  {
   "cell_type": "markdown",
   "metadata": {},
   "source": [
    "### Quick sort\n",
    "Time | $O(Nlog(N))$: <br>\n",
    "At most N computations for comparing elements with the pivot element. log(N) computations for the dividing process of the given array<br><br>\n",
    "Space | $O(log(N))$<br>\n",
    "This algorithm takes log(N) call stack memory everytime we call sort method for half arrays"
   ]
  },
  {
   "cell_type": "code",
   "execution_count": 65,
   "metadata": {},
   "outputs": [],
   "source": [
    "def quick_sort(arr):\n",
    "    '''\n",
    "    * a helper method to \"parition\"(sort) an array into two,\n",
    "    * that is, lower than a pivot & larger than a pivot.\n",
    "    * @param arr: an array to be partitioned\n",
    "    * @param low_idx: a lower bound of the partition range\n",
    "    * @param high_idx: a higher bound of the partition range\n",
    "    '''\n",
    "    def partition(arr, low_idx, high_idx):\n",
    "        # sets a pivot the higher index this time\n",
    "        pivot = high_idx\n",
    "        i = low_idx\n",
    "        for j in range(low_idx, high_idx):\n",
    "            if arr[j] < arr[pivot]:\n",
    "                arr[i], arr[j] = arr[j], arr[i]\n",
    "                i += 1\n",
    "        arr[i], arr[high_idx] = arr[high_idx], arr[i]\n",
    "        # returns a center index of the partitioned array\n",
    "        return i\n",
    "    '''\n",
    "    * another helper method which actually call the above partition\n",
    "    * method recursively\n",
    "    '''\n",
    "    def sort(arr, low_idx, high_idx):\n",
    "        if low_idx < high_idx:\n",
    "            p = partition(arr, low_idx, high_idx)\n",
    "            sort(arr, low_idx, p-1)\n",
    "            sort(arr, p+1, high_idx)\n",
    "    \n",
    "    sort(arr, 0, len(arr)-1)"
   ]
  },
  {
   "cell_type": "code",
   "execution_count": 66,
   "metadata": {},
   "outputs": [
    {
     "data": {
      "text/plain": [
       "[3, 5, 6, 45, 46, 57, 65, 68, 97, 123, 134, 562, 562, 568, 624, 641]"
      ]
     },
     "execution_count": 66,
     "metadata": {},
     "output_type": "execute_result"
    }
   ],
   "source": [
    "test = [123,641,46,134,624,57,568,5,68,65,97,3,562,562,45,6]\n",
    "quick_sort(test)\n",
    "test"
   ]
  },
  {
   "cell_type": "markdown",
   "metadata": {},
   "source": [
    "### Heap sort\n",
    "------ we use **the Max Heap** structure here ------<br><br>\n",
    "Time | $O(Nlog(N))$: <br>\n",
    "N computations for visiting all elements in the given array. log(N) computations for heapify each element in the given array.<br><br>\n",
    "Space | $O(1)$<br>\n",
    "This algorithm takes a constant memory only for variables. Heap sort is an **in-place** algorithm"
   ]
  },
  {
   "cell_type": "code",
   "execution_count": 67,
   "metadata": {},
   "outputs": [],
   "source": [
    "def heap_sort(arr):\n",
    "    '''\n",
    "    * a helper method which places an element at the given index to the \n",
    "    * appropriate place in the max heap structure\n",
    "    * @param arr: an array which the element is in\n",
    "    * @param idx: the index of the element in the array\n",
    "    * @param size: the size of the array\n",
    "    '''\n",
    "    def percolate_down(arr, idx, size):\n",
    "        child_idx = 2*idx + 1\n",
    "        value = arr[idx]\n",
    "        while child_idx < size:\n",
    "            max_value = value\n",
    "            max_idx = -1\n",
    "            for i in range(2):\n",
    "                if child_idx + i < size and arr[child_idx + i] > max_value:\n",
    "                    max_value = arr[child_idx + i]\n",
    "                    max_idx = child_idx + i\n",
    "            if max_value == value:\n",
    "                return\n",
    "            else:\n",
    "                arr[idx], arr[max_idx] = arr[max_idx], arr[idx]\n",
    "                idx = max_idx\n",
    "                child_idx = 2*idx + 1\n",
    "    \n",
    "    # heapify the given array\n",
    "    for i in range(int((len(arr)/2) - 1), -1, -1):\n",
    "        percolate_down(arr, i, len(arr))\n",
    "    # place the max element at the end & heapify the array in the range\n",
    "    for i in range(len(arr)-1, 0, -1):\n",
    "        arr[0], arr[i] = arr[i], arr[0]\n",
    "        percolate_down(arr, 0, i)"
   ]
  },
  {
   "cell_type": "code",
   "execution_count": 68,
   "metadata": {},
   "outputs": [
    {
     "data": {
      "text/plain": [
       "[3, 5, 6, 45, 46, 57, 65, 68, 97, 123, 134, 562, 562, 568, 624, 641]"
      ]
     },
     "execution_count": 68,
     "metadata": {},
     "output_type": "execute_result"
    }
   ],
   "source": [
    "test = [123,641,46,134,624,57,568,5,68,65,97,3,562,562,45,6]\n",
    "heap_sort(test)\n",
    "test"
   ]
  },
  {
   "cell_type": "markdown",
   "metadata": {},
   "source": [
    "## Time the performance of each algorithm\n",
    "### How we test performance\n",
    "First of all, Our goal here is to time each algorithm and to plot the result on a graph to visually convince which algorithm is better in general. This experiment following input rules for inputs for each algorithms:\n",
    "- input array is size of 10, 50, 100, 250, 500, 750, 1000, 2500, 5000, and 100000. \n",
    "- the numbers contained in the array range from [-500, 500]\n",
    "- the numbers are randomized by random integer generator of `random` module. "
   ]
  },
  {
   "cell_type": "code",
   "execution_count": 111,
   "metadata": {},
   "outputs": [],
   "source": [
    "# import time library to time the performance\n",
    "import time\n",
    "\n",
    "# a dictionary to call each algorithm\n",
    "algos = {\n",
    "        \"insertion\": insertion_sort,\n",
    "        \"merge\": merge_sort,\n",
    "        \"quick\": quick_sort,\n",
    "        \"heap\": heap_sort\n",
    "        }\n",
    "\n",
    "# a method to print how long a method takes to sort the given array\n",
    "def timing(arr, algo_name, history):\n",
    "    start = time.time()\n",
    "    algos[algo_name](arr)\n",
    "    # stores the time in a dataset\n",
    "    history.append(time.time() - start)"
   ]
  },
  {
   "cell_type": "code",
   "execution_count": 112,
   "metadata": {},
   "outputs": [],
   "source": [
    "# import random module to time performance\n",
    "import random\n",
    "# a function to generate a list of randomized data lists\n",
    "def smpl_generator():\n",
    "    return [[random.randint(-500, 500) for _ in range(10)],\n",
    "             [random.randint(-500, 500) for _ in range(50)],\n",
    "             [random.randint(-500, 500) for _ in range(100)],\n",
    "             [random.randint(-500, 500) for _ in range(250)],\n",
    "             [random.randint(-500, 500) for _ in range(500)],\n",
    "             [random.randint(-500, 500) for _ in range(750)],\n",
    "             [random.randint(-500, 500) for _ in range(1000)],\n",
    "             [random.randint(-500, 500) for _ in range(2500)],\n",
    "             [random.randint(-500, 500) for _ in range(5000)],\n",
    "             [random.randint(-500, 500) for _ in range(10000)]]"
   ]
  },
  {
   "cell_type": "markdown",
   "metadata": {},
   "source": [
    "#### Start the experiment !!!!"
   ]
  },
  {
   "cell_type": "code",
   "execution_count": 113,
   "metadata": {},
   "outputs": [],
   "source": [
    "insertion_data = []\n",
    "for smpl in smpl_generator():\n",
    "    timing(smpl, \"insertion\", insertion_data)\n",
    "    \n",
    "heap_data = []\n",
    "for smpl in smpl_generator():\n",
    "    timing(smpl, \"heap\", heap_data)\n",
    "    \n",
    "merge_data = []\n",
    "for smpl in smpl_generator():\n",
    "    timing(smpl, \"merge\", merge_data)\n",
    "    \n",
    "quick_data = []\n",
    "for smpl in smpl_generator():\n",
    "    timing(smpl, \"quick\", quick_data)"
   ]
  },
  {
   "cell_type": "code",
   "execution_count": 116,
   "metadata": {},
   "outputs": [
    {
     "data": {
      "text/html": [
       "<div>\n",
       "<style scoped>\n",
       "    .dataframe tbody tr th:only-of-type {\n",
       "        vertical-align: middle;\n",
       "    }\n",
       "\n",
       "    .dataframe tbody tr th {\n",
       "        vertical-align: top;\n",
       "    }\n",
       "\n",
       "    .dataframe thead th {\n",
       "        text-align: right;\n",
       "    }\n",
       "</style>\n",
       "<table border=\"1\" class=\"dataframe\">\n",
       "  <thead>\n",
       "    <tr style=\"text-align: right;\">\n",
       "      <th></th>\n",
       "      <th>Inserttion</th>\n",
       "      <th>Heap</th>\n",
       "      <th>Merge</th>\n",
       "      <th>Quick</th>\n",
       "    </tr>\n",
       "  </thead>\n",
       "  <tbody>\n",
       "    <tr>\n",
       "      <th>10</th>\n",
       "      <td>0.000050</td>\n",
       "      <td>0.000025</td>\n",
       "      <td>0.000023</td>\n",
       "      <td>0.000019</td>\n",
       "    </tr>\n",
       "    <tr>\n",
       "      <th>50</th>\n",
       "      <td>0.000198</td>\n",
       "      <td>0.000144</td>\n",
       "      <td>0.000107</td>\n",
       "      <td>0.000050</td>\n",
       "    </tr>\n",
       "    <tr>\n",
       "      <th>100</th>\n",
       "      <td>0.000647</td>\n",
       "      <td>0.000336</td>\n",
       "      <td>0.000235</td>\n",
       "      <td>0.000118</td>\n",
       "    </tr>\n",
       "    <tr>\n",
       "      <th>250</th>\n",
       "      <td>0.002511</td>\n",
       "      <td>0.001026</td>\n",
       "      <td>0.000672</td>\n",
       "      <td>0.000311</td>\n",
       "    </tr>\n",
       "    <tr>\n",
       "      <th>500</th>\n",
       "      <td>0.010091</td>\n",
       "      <td>0.002407</td>\n",
       "      <td>0.001492</td>\n",
       "      <td>0.000814</td>\n",
       "    </tr>\n",
       "    <tr>\n",
       "      <th>750</th>\n",
       "      <td>0.023031</td>\n",
       "      <td>0.003936</td>\n",
       "      <td>0.002337</td>\n",
       "      <td>0.001296</td>\n",
       "    </tr>\n",
       "    <tr>\n",
       "      <th>1000</th>\n",
       "      <td>0.038710</td>\n",
       "      <td>0.005504</td>\n",
       "      <td>0.003241</td>\n",
       "      <td>0.001762</td>\n",
       "    </tr>\n",
       "    <tr>\n",
       "      <th>2500</th>\n",
       "      <td>0.241605</td>\n",
       "      <td>0.016571</td>\n",
       "      <td>0.009173</td>\n",
       "      <td>0.005070</td>\n",
       "    </tr>\n",
       "    <tr>\n",
       "      <th>5000</th>\n",
       "      <td>0.905697</td>\n",
       "      <td>0.043782</td>\n",
       "      <td>0.019680</td>\n",
       "      <td>0.010828</td>\n",
       "    </tr>\n",
       "    <tr>\n",
       "      <th>10000</th>\n",
       "      <td>3.508603</td>\n",
       "      <td>0.081949</td>\n",
       "      <td>0.042252</td>\n",
       "      <td>0.024873</td>\n",
       "    </tr>\n",
       "  </tbody>\n",
       "</table>\n",
       "</div>"
      ],
      "text/plain": [
       "       Inserttion      Heap     Merge     Quick\n",
       "10       0.000050  0.000025  0.000023  0.000019\n",
       "50       0.000198  0.000144  0.000107  0.000050\n",
       "100      0.000647  0.000336  0.000235  0.000118\n",
       "250      0.002511  0.001026  0.000672  0.000311\n",
       "500      0.010091  0.002407  0.001492  0.000814\n",
       "750      0.023031  0.003936  0.002337  0.001296\n",
       "1000     0.038710  0.005504  0.003241  0.001762\n",
       "2500     0.241605  0.016571  0.009173  0.005070\n",
       "5000     0.905697  0.043782  0.019680  0.010828\n",
       "10000    3.508603  0.081949  0.042252  0.024873"
      ]
     },
     "execution_count": 116,
     "metadata": {},
     "output_type": "execute_result"
    }
   ],
   "source": [
    "# pandas is great at creating a dataframe\n",
    "import pandas as pd\n",
    "\n",
    "result = pd.DataFrame(data={\"Inserttion\": insertion_data, \n",
    "                            \"Heap\": heap_data, \n",
    "                            \"Merge\": merge_data, \n",
    "                            \"Quick\": quick_data}, \n",
    "                      index=[10,50,100,250,500,750,1000,2500,5000, 10000])\n",
    "result"
   ]
  },
  {
   "cell_type": "markdown",
   "metadata": {},
   "source": [
    "# Graph of the Result"
   ]
  },
  {
   "cell_type": "code",
   "execution_count": 118,
   "metadata": {},
   "outputs": [
    {
     "data": {
      "text/plain": [
       "<matplotlib.axes._subplots.AxesSubplot at 0x11b513978>"
      ]
     },
     "execution_count": 118,
     "metadata": {},
     "output_type": "execute_result"
    },
    {
     "data": {
      "text/plain": [
       "<Figure size 432x288 with 0 Axes>"
      ]
     },
     "metadata": {},
     "output_type": "display_data"
    },
    {
     "data": {
      "image/png": "[encoded data removed]",
      "text/plain": [
       "<Figure size 432x288 with 1 Axes>"
      ]
     },
     "metadata": {
      "needs_background": "light"
     },
     "output_type": "display_data"
    }
   ],
   "source": [
    "import matplotlib.pyplot as plt\n",
    "\n",
    "df = result.cumsum()\n",
    "plt.figure()\n",
    "df.plot()"
   ]
  },
  {
   "cell_type": "code",
   "execution_count": 120,
   "metadata": {},
   "outputs": [
    {
     "data": {
      "text/html": [
       "<div>\n",
       "<style scoped>\n",
       "    .dataframe tbody tr th:only-of-type {\n",
       "        vertical-align: middle;\n",
       "    }\n",
       "\n",
       "    .dataframe tbody tr th {\n",
       "        vertical-align: top;\n",
       "    }\n",
       "\n",
       "    .dataframe thead th {\n",
       "        text-align: right;\n",
       "    }\n",
       "</style>\n",
       "<table border=\"1\" class=\"dataframe\">\n",
       "  <thead>\n",
       "    <tr style=\"text-align: right;\">\n",
       "      <th></th>\n",
       "      <th>Heap</th>\n",
       "      <th>Merge</th>\n",
       "      <th>Quick</th>\n",
       "    </tr>\n",
       "  </thead>\n",
       "  <tbody>\n",
       "    <tr>\n",
       "      <th>10</th>\n",
       "      <td>0.000025</td>\n",
       "      <td>0.000023</td>\n",
       "      <td>0.000019</td>\n",
       "    </tr>\n",
       "    <tr>\n",
       "      <th>50</th>\n",
       "      <td>0.000144</td>\n",
       "      <td>0.000107</td>\n",
       "      <td>0.000050</td>\n",
       "    </tr>\n",
       "    <tr>\n",
       "      <th>100</th>\n",
       "      <td>0.000336</td>\n",
       "      <td>0.000235</td>\n",
       "      <td>0.000118</td>\n",
       "    </tr>\n",
       "    <tr>\n",
       "      <th>250</th>\n",
       "      <td>0.001026</td>\n",
       "      <td>0.000672</td>\n",
       "      <td>0.000311</td>\n",
       "    </tr>\n",
       "    <tr>\n",
       "      <th>500</th>\n",
       "      <td>0.002407</td>\n",
       "      <td>0.001492</td>\n",
       "      <td>0.000814</td>\n",
       "    </tr>\n",
       "    <tr>\n",
       "      <th>750</th>\n",
       "      <td>0.003936</td>\n",
       "      <td>0.002337</td>\n",
       "      <td>0.001296</td>\n",
       "    </tr>\n",
       "    <tr>\n",
       "      <th>1000</th>\n",
       "      <td>0.005504</td>\n",
       "      <td>0.003241</td>\n",
       "      <td>0.001762</td>\n",
       "    </tr>\n",
       "    <tr>\n",
       "      <th>2500</th>\n",
       "      <td>0.016571</td>\n",
       "      <td>0.009173</td>\n",
       "      <td>0.005070</td>\n",
       "    </tr>\n",
       "    <tr>\n",
       "      <th>5000</th>\n",
       "      <td>0.043782</td>\n",
       "      <td>0.019680</td>\n",
       "      <td>0.010828</td>\n",
       "    </tr>\n",
       "    <tr>\n",
       "      <th>10000</th>\n",
       "      <td>0.081949</td>\n",
       "      <td>0.042252</td>\n",
       "      <td>0.024873</td>\n",
       "    </tr>\n",
       "  </tbody>\n",
       "</table>\n",
       "</div>"
      ],
      "text/plain": [
       "           Heap     Merge     Quick\n",
       "10     0.000025  0.000023  0.000019\n",
       "50     0.000144  0.000107  0.000050\n",
       "100    0.000336  0.000235  0.000118\n",
       "250    0.001026  0.000672  0.000311\n",
       "500    0.002407  0.001492  0.000814\n",
       "750    0.003936  0.002337  0.001296\n",
       "1000   0.005504  0.003241  0.001762\n",
       "2500   0.016571  0.009173  0.005070\n",
       "5000   0.043782  0.019680  0.010828\n",
       "10000  0.081949  0.042252  0.024873"
      ]
     },
     "execution_count": 120,
     "metadata": {},
     "output_type": "execute_result"
    }
   ],
   "source": [
    "result = pd.DataFrame(data={\"Heap\": heap_data, \n",
    "                            \"Merge\": merge_data, \n",
    "                            \"Quick\": quick_data}, \n",
    "                      index=[10,50,100,250,500,750,1000,2500,5000, 10000])\n",
    "result"
   ]
  },
  {
   "cell_type": "code",
   "execution_count": 132,
   "metadata": {},
   "outputs": [
    {
     "data": {
      "text/plain": [
       "<Figure size 7200x576 with 0 Axes>"
      ]
     },
     "metadata": {},
     "output_type": "display_data"
    },
    {
     "data": {
      "image/png": "[encoded data removed]",
      "text/plain": [
       "<Figure size 432x288 with 1 Axes>"
      ]
     },
     "metadata": {
      "needs_background": "light"
     },
     "output_type": "display_data"
    }
   ],
   "source": [
    "df = result.cumsum()\n",
    "fig = plt.figure(figsize=(100,8))\n",
    "df.plot()\n",
    "plt.savefig('filename.png', dpi=90)\n",
    "plt.show()"
   ]
  },
  {
   "cell_type": "code",
   "execution_count": null,
   "metadata": {},
   "outputs": [],
   "source": []
  }
 ],
 "metadata": {
  "kernelspec": {
   "display_name": "Python 3",
   "language": "python",
   "name": "python3"
  },
  "language_info": {
   "codemirror_mode": {
    "name": "ipython",
    "version": 3
   },
   "file_extension": ".py",
   "mimetype": "text/x-python",
   "name": "python",
   "nbconvert_exporter": "python",
   "pygments_lexer": "ipython3",
   "version": "3.7.1"
  }
 },
 "nbformat": 4,
 "nbformat_minor": 2
}
